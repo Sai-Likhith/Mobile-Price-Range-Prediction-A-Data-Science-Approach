{
  "nbformat": 4,
  "nbformat_minor": 0,
  "metadata": {
    "colab": {
      "provenance": [],
      "collapsed_sections": [
        "j9awZFHRd1Tf",
        "_365wsgCNZm6",
        "wRzP5no6j85m",
        "DVagPuw5kMWk",
        "OvA5S6SJkaCC",
        "Vjw3xp1YkfVz",
        "3wsfh9ztR62I"
      ]
    },
    "kernelspec": {
      "name": "python3",
      "display_name": "Python 3"
    },
    "language_info": {
      "name": "python"
    }
  },
  "cells": [
    {
      "cell_type": "markdown",
      "source": [
        "#**PANUGANTI SAI LIKHITH**\n",
        "\n",
        "sailikithpaanuganti@gmail.com\n",
        "\n",
        "https://www.linkedin.com/in/sailikhith"
      ],
      "metadata": {
        "id": "TaF4TkoHsAKV"
      }
    },
    {
      "cell_type": "markdown",
      "source": [
        "# Dataset Required\n",
        "\n",
        "https://github.com/Sai-Likhith/Mobile-Price-Range-Prediction-A-Data-Science-Approach/blob/main/mobile_price_range_data.csv"
      ],
      "metadata": {
        "id": "NS2RHLuRFwnR"
      }
    },
    {
      "cell_type": "markdown",
      "source": [
        "#Importing Required Libraries"
      ],
      "metadata": {
        "id": "j9awZFHRd1Tf"
      }
    },
    {
      "cell_type": "code",
      "source": [
        "import pandas as pd\n",
        "import numpy as np\n",
        "\n",
        "from sklearn import preprocessing\n",
        "\n",
        "from sklearn.model_selection import train_test_split\n",
        "\n",
        "from sklearn import metrics\n",
        "from sklearn.preprocessing import StandardScaler\n",
        "\n",
        "from sklearn.linear_model import LogisticRegression\n",
        "from sklearn.tree import DecisionTreeClassifier\n",
        "from sklearn.ensemble import RandomForestClassifier\n",
        "from sklearn.neighbors import KNeighborsClassifier\n",
        "\n",
        "from sklearn.metrics import classification_report, confusion_matrix, accuracy_score\n",
        "\n",
        "import matplotlib.pyplot as plt\n",
        "%matplotlib inline\n",
        "\n",
        "import seaborn as sns"
      ],
      "metadata": {
        "id": "F8huCkCxPYqx"
      },
      "execution_count": 46,
      "outputs": []
    },
    {
      "cell_type": "markdown",
      "source": [
        "#Uploading csv file and Getting started"
      ],
      "metadata": {
        "id": "j2Z-65wy5St4"
      }
    },
    {
      "cell_type": "code",
      "source": [
        "data1 = pd.read_csv('/content/mobile_price_range_data.csv')     #Reading the csv file and assigning the name for csv file as data1"
      ],
      "metadata": {
        "id": "XjTVq43kKB1M"
      },
      "execution_count": 47,
      "outputs": []
    },
    {
      "cell_type": "code",
      "source": [
        "data1.head()"
      ],
      "metadata": {
        "colab": {
          "base_uri": "https://localhost:8080/",
          "height": 299
        },
        "id": "gFgHEMXq5vnK",
        "outputId": "d8702786-ea98-4477-8de3-3e6694bacc04"
      },
      "execution_count": 48,
      "outputs": [
        {
          "output_type": "execute_result",
          "data": {
            "text/plain": [
              "   battery_power  blue  clock_speed  dual_sim  fc  four_g  int_memory  m_dep  \\\n",
              "0            842     0          2.2         0   1       0           7    0.6   \n",
              "1           1021     1          0.5         1   0       1          53    0.7   \n",
              "2            563     1          0.5         1   2       1          41    0.9   \n",
              "3            615     1          2.5         0   0       0          10    0.8   \n",
              "4           1821     1          1.2         0  13       1          44    0.6   \n",
              "\n",
              "   mobile_wt  n_cores  ...  px_height  px_width   ram  sc_h  sc_w  talk_time  \\\n",
              "0        188        2  ...         20       756  2549     9     7         19   \n",
              "1        136        3  ...        905      1988  2631    17     3          7   \n",
              "2        145        5  ...       1263      1716  2603    11     2          9   \n",
              "3        131        6  ...       1216      1786  2769    16     8         11   \n",
              "4        141        2  ...       1208      1212  1411     8     2         15   \n",
              "\n",
              "   three_g  touch_screen  wifi  price_range  \n",
              "0        0             0     1            1  \n",
              "1        1             1     0            2  \n",
              "2        1             1     0            2  \n",
              "3        1             0     0            2  \n",
              "4        1             1     0            1  \n",
              "\n",
              "[5 rows x 21 columns]"
            ],
            "text/html": [
              "\n",
              "  <div id=\"df-c8ec6be3-171c-4dc8-a599-af5773bbec99\">\n",
              "    <div class=\"colab-df-container\">\n",
              "      <div>\n",
              "<style scoped>\n",
              "    .dataframe tbody tr th:only-of-type {\n",
              "        vertical-align: middle;\n",
              "    }\n",
              "\n",
              "    .dataframe tbody tr th {\n",
              "        vertical-align: top;\n",
              "    }\n",
              "\n",
              "    .dataframe thead th {\n",
              "        text-align: right;\n",
              "    }\n",
              "</style>\n",
              "<table border=\"1\" class=\"dataframe\">\n",
              "  <thead>\n",
              "    <tr style=\"text-align: right;\">\n",
              "      <th></th>\n",
              "      <th>battery_power</th>\n",
              "      <th>blue</th>\n",
              "      <th>clock_speed</th>\n",
              "      <th>dual_sim</th>\n",
              "      <th>fc</th>\n",
              "      <th>four_g</th>\n",
              "      <th>int_memory</th>\n",
              "      <th>m_dep</th>\n",
              "      <th>mobile_wt</th>\n",
              "      <th>n_cores</th>\n",
              "      <th>...</th>\n",
              "      <th>px_height</th>\n",
              "      <th>px_width</th>\n",
              "      <th>ram</th>\n",
              "      <th>sc_h</th>\n",
              "      <th>sc_w</th>\n",
              "      <th>talk_time</th>\n",
              "      <th>three_g</th>\n",
              "      <th>touch_screen</th>\n",
              "      <th>wifi</th>\n",
              "      <th>price_range</th>\n",
              "    </tr>\n",
              "  </thead>\n",
              "  <tbody>\n",
              "    <tr>\n",
              "      <th>0</th>\n",
              "      <td>842</td>\n",
              "      <td>0</td>\n",
              "      <td>2.2</td>\n",
              "      <td>0</td>\n",
              "      <td>1</td>\n",
              "      <td>0</td>\n",
              "      <td>7</td>\n",
              "      <td>0.6</td>\n",
              "      <td>188</td>\n",
              "      <td>2</td>\n",
              "      <td>...</td>\n",
              "      <td>20</td>\n",
              "      <td>756</td>\n",
              "      <td>2549</td>\n",
              "      <td>9</td>\n",
              "      <td>7</td>\n",
              "      <td>19</td>\n",
              "      <td>0</td>\n",
              "      <td>0</td>\n",
              "      <td>1</td>\n",
              "      <td>1</td>\n",
              "    </tr>\n",
              "    <tr>\n",
              "      <th>1</th>\n",
              "      <td>1021</td>\n",
              "      <td>1</td>\n",
              "      <td>0.5</td>\n",
              "      <td>1</td>\n",
              "      <td>0</td>\n",
              "      <td>1</td>\n",
              "      <td>53</td>\n",
              "      <td>0.7</td>\n",
              "      <td>136</td>\n",
              "      <td>3</td>\n",
              "      <td>...</td>\n",
              "      <td>905</td>\n",
              "      <td>1988</td>\n",
              "      <td>2631</td>\n",
              "      <td>17</td>\n",
              "      <td>3</td>\n",
              "      <td>7</td>\n",
              "      <td>1</td>\n",
              "      <td>1</td>\n",
              "      <td>0</td>\n",
              "      <td>2</td>\n",
              "    </tr>\n",
              "    <tr>\n",
              "      <th>2</th>\n",
              "      <td>563</td>\n",
              "      <td>1</td>\n",
              "      <td>0.5</td>\n",
              "      <td>1</td>\n",
              "      <td>2</td>\n",
              "      <td>1</td>\n",
              "      <td>41</td>\n",
              "      <td>0.9</td>\n",
              "      <td>145</td>\n",
              "      <td>5</td>\n",
              "      <td>...</td>\n",
              "      <td>1263</td>\n",
              "      <td>1716</td>\n",
              "      <td>2603</td>\n",
              "      <td>11</td>\n",
              "      <td>2</td>\n",
              "      <td>9</td>\n",
              "      <td>1</td>\n",
              "      <td>1</td>\n",
              "      <td>0</td>\n",
              "      <td>2</td>\n",
              "    </tr>\n",
              "    <tr>\n",
              "      <th>3</th>\n",
              "      <td>615</td>\n",
              "      <td>1</td>\n",
              "      <td>2.5</td>\n",
              "      <td>0</td>\n",
              "      <td>0</td>\n",
              "      <td>0</td>\n",
              "      <td>10</td>\n",
              "      <td>0.8</td>\n",
              "      <td>131</td>\n",
              "      <td>6</td>\n",
              "      <td>...</td>\n",
              "      <td>1216</td>\n",
              "      <td>1786</td>\n",
              "      <td>2769</td>\n",
              "      <td>16</td>\n",
              "      <td>8</td>\n",
              "      <td>11</td>\n",
              "      <td>1</td>\n",
              "      <td>0</td>\n",
              "      <td>0</td>\n",
              "      <td>2</td>\n",
              "    </tr>\n",
              "    <tr>\n",
              "      <th>4</th>\n",
              "      <td>1821</td>\n",
              "      <td>1</td>\n",
              "      <td>1.2</td>\n",
              "      <td>0</td>\n",
              "      <td>13</td>\n",
              "      <td>1</td>\n",
              "      <td>44</td>\n",
              "      <td>0.6</td>\n",
              "      <td>141</td>\n",
              "      <td>2</td>\n",
              "      <td>...</td>\n",
              "      <td>1208</td>\n",
              "      <td>1212</td>\n",
              "      <td>1411</td>\n",
              "      <td>8</td>\n",
              "      <td>2</td>\n",
              "      <td>15</td>\n",
              "      <td>1</td>\n",
              "      <td>1</td>\n",
              "      <td>0</td>\n",
              "      <td>1</td>\n",
              "    </tr>\n",
              "  </tbody>\n",
              "</table>\n",
              "<p>5 rows × 21 columns</p>\n",
              "</div>\n",
              "      <button class=\"colab-df-convert\" onclick=\"convertToInteractive('df-c8ec6be3-171c-4dc8-a599-af5773bbec99')\"\n",
              "              title=\"Convert this dataframe to an interactive table.\"\n",
              "              style=\"display:none;\">\n",
              "        \n",
              "  <svg xmlns=\"http://www.w3.org/2000/svg\" height=\"24px\"viewBox=\"0 0 24 24\"\n",
              "       width=\"24px\">\n",
              "    <path d=\"M0 0h24v24H0V0z\" fill=\"none\"/>\n",
              "    <path d=\"M18.56 5.44l.94 2.06.94-2.06 2.06-.94-2.06-.94-.94-2.06-.94 2.06-2.06.94zm-11 1L8.5 8.5l.94-2.06 2.06-.94-2.06-.94L8.5 2.5l-.94 2.06-2.06.94zm10 10l.94 2.06.94-2.06 2.06-.94-2.06-.94-.94-2.06-.94 2.06-2.06.94z\"/><path d=\"M17.41 7.96l-1.37-1.37c-.4-.4-.92-.59-1.43-.59-.52 0-1.04.2-1.43.59L10.3 9.45l-7.72 7.72c-.78.78-.78 2.05 0 2.83L4 21.41c.39.39.9.59 1.41.59.51 0 1.02-.2 1.41-.59l7.78-7.78 2.81-2.81c.8-.78.8-2.07 0-2.86zM5.41 20L4 18.59l7.72-7.72 1.47 1.35L5.41 20z\"/>\n",
              "  </svg>\n",
              "      </button>\n",
              "      \n",
              "  <style>\n",
              "    .colab-df-container {\n",
              "      display:flex;\n",
              "      flex-wrap:wrap;\n",
              "      gap: 12px;\n",
              "    }\n",
              "\n",
              "    .colab-df-convert {\n",
              "      background-color: #E8F0FE;\n",
              "      border: none;\n",
              "      border-radius: 50%;\n",
              "      cursor: pointer;\n",
              "      display: none;\n",
              "      fill: #1967D2;\n",
              "      height: 32px;\n",
              "      padding: 0 0 0 0;\n",
              "      width: 32px;\n",
              "    }\n",
              "\n",
              "    .colab-df-convert:hover {\n",
              "      background-color: #E2EBFA;\n",
              "      box-shadow: 0px 1px 2px rgba(60, 64, 67, 0.3), 0px 1px 3px 1px rgba(60, 64, 67, 0.15);\n",
              "      fill: #174EA6;\n",
              "    }\n",
              "\n",
              "    [theme=dark] .colab-df-convert {\n",
              "      background-color: #3B4455;\n",
              "      fill: #D2E3FC;\n",
              "    }\n",
              "\n",
              "    [theme=dark] .colab-df-convert:hover {\n",
              "      background-color: #434B5C;\n",
              "      box-shadow: 0px 1px 3px 1px rgba(0, 0, 0, 0.15);\n",
              "      filter: drop-shadow(0px 1px 2px rgba(0, 0, 0, 0.3));\n",
              "      fill: #FFFFFF;\n",
              "    }\n",
              "  </style>\n",
              "\n",
              "      <script>\n",
              "        const buttonEl =\n",
              "          document.querySelector('#df-c8ec6be3-171c-4dc8-a599-af5773bbec99 button.colab-df-convert');\n",
              "        buttonEl.style.display =\n",
              "          google.colab.kernel.accessAllowed ? 'block' : 'none';\n",
              "\n",
              "        async function convertToInteractive(key) {\n",
              "          const element = document.querySelector('#df-c8ec6be3-171c-4dc8-a599-af5773bbec99');\n",
              "          const dataTable =\n",
              "            await google.colab.kernel.invokeFunction('convertToInteractive',\n",
              "                                                     [key], {});\n",
              "          if (!dataTable) return;\n",
              "\n",
              "          const docLinkHtml = 'Like what you see? Visit the ' +\n",
              "            '<a target=\"_blank\" href=https://colab.research.google.com/notebooks/data_table.ipynb>data table notebook</a>'\n",
              "            + ' to learn more about interactive tables.';\n",
              "          element.innerHTML = '';\n",
              "          dataTable['output_type'] = 'display_data';\n",
              "          await google.colab.output.renderOutput(dataTable, element);\n",
              "          const docLink = document.createElement('div');\n",
              "          docLink.innerHTML = docLinkHtml;\n",
              "          element.appendChild(docLink);\n",
              "        }\n",
              "      </script>\n",
              "    </div>\n",
              "  </div>\n",
              "  "
            ]
          },
          "metadata": {},
          "execution_count": 48
        }
      ]
    },
    {
      "cell_type": "code",
      "source": [
        "data1.columns"
      ],
      "metadata": {
        "colab": {
          "base_uri": "https://localhost:8080/"
        },
        "id": "nTGareNhFDy5",
        "outputId": "61dfc1d1-b7ba-41d8-9ca6-be4182e9a27a"
      },
      "execution_count": 49,
      "outputs": [
        {
          "output_type": "execute_result",
          "data": {
            "text/plain": [
              "Index(['battery_power', 'blue', 'clock_speed', 'dual_sim', 'fc', 'four_g',\n",
              "       'int_memory', 'm_dep', 'mobile_wt', 'n_cores', 'pc', 'px_height',\n",
              "       'px_width', 'ram', 'sc_h', 'sc_w', 'talk_time', 'three_g',\n",
              "       'touch_screen', 'wifi', 'price_range'],\n",
              "      dtype='object')"
            ]
          },
          "metadata": {},
          "execution_count": 49
        }
      ]
    },
    {
      "cell_type": "markdown",
      "source": [
        "#Normalizing the data"
      ],
      "metadata": {
        "id": "YpYNFF5vlIO_"
      }
    },
    {
      "cell_type": "code",
      "source": [
        "data = data1.drop(['price_range'], axis = 1)           #Price should not be normalized, so removing Price Column from the data"
      ],
      "metadata": {
        "id": "rEm286wpFWoJ"
      },
      "execution_count": 50,
      "outputs": []
    },
    {
      "cell_type": "code",
      "source": [
        "min_max_Scalar = preprocessing.MinMaxScaler()             #Using MaxMinScaler"
      ],
      "metadata": {
        "id": "1iWhYycpEKbk"
      },
      "execution_count": 51,
      "outputs": []
    },
    {
      "cell_type": "code",
      "source": [
        "col = data.columns\n",
        "result = min_max_Scalar.fit_transform(data)\n",
        "data= pd.DataFrame(result, columns=col)"
      ],
      "metadata": {
        "id": "fp6IkK-T0q1k"
      },
      "execution_count": 52,
      "outputs": []
    },
    {
      "cell_type": "code",
      "source": [
        "data.head()"
      ],
      "metadata": {
        "colab": {
          "base_uri": "https://localhost:8080/",
          "height": 270
        },
        "id": "2697Ve_VIIac",
        "outputId": "d78548d6-c983-4dc8-c91c-c07844e4feb5"
      },
      "execution_count": 53,
      "outputs": [
        {
          "output_type": "execute_result",
          "data": {
            "text/plain": [
              "   battery_power  blue  clock_speed  dual_sim        fc  four_g  int_memory  \\\n",
              "0       0.227789   0.0         0.68       0.0  0.052632     0.0    0.080645   \n",
              "1       0.347361   1.0         0.00       1.0  0.000000     1.0    0.822581   \n",
              "2       0.041416   1.0         0.00       1.0  0.105263     1.0    0.629032   \n",
              "3       0.076152   1.0         0.80       0.0  0.000000     0.0    0.129032   \n",
              "4       0.881764   1.0         0.28       0.0  0.684211     1.0    0.677419   \n",
              "\n",
              "      m_dep  mobile_wt   n_cores    pc  px_height  px_width       ram  \\\n",
              "0  0.555556   0.900000  0.142857  0.10   0.010204  0.170895  0.612774   \n",
              "1  0.666667   0.466667  0.285714  0.30   0.461735  0.993324  0.634687   \n",
              "2  0.888889   0.541667  0.571429  0.30   0.644388  0.811749  0.627205   \n",
              "3  0.777778   0.425000  0.714286  0.45   0.620408  0.858478  0.671566   \n",
              "4  0.555556   0.508333  0.142857  0.70   0.616327  0.475300  0.308658   \n",
              "\n",
              "       sc_h      sc_w  talk_time  three_g  touch_screen  wifi  \n",
              "0  0.285714  0.388889   0.944444      0.0           0.0   1.0  \n",
              "1  0.857143  0.166667   0.277778      1.0           1.0   0.0  \n",
              "2  0.428571  0.111111   0.388889      1.0           1.0   0.0  \n",
              "3  0.785714  0.444444   0.500000      1.0           0.0   0.0  \n",
              "4  0.214286  0.111111   0.722222      1.0           1.0   0.0  "
            ],
            "text/html": [
              "\n",
              "  <div id=\"df-7b66ab16-a558-4c04-810d-5654885829d4\">\n",
              "    <div class=\"colab-df-container\">\n",
              "      <div>\n",
              "<style scoped>\n",
              "    .dataframe tbody tr th:only-of-type {\n",
              "        vertical-align: middle;\n",
              "    }\n",
              "\n",
              "    .dataframe tbody tr th {\n",
              "        vertical-align: top;\n",
              "    }\n",
              "\n",
              "    .dataframe thead th {\n",
              "        text-align: right;\n",
              "    }\n",
              "</style>\n",
              "<table border=\"1\" class=\"dataframe\">\n",
              "  <thead>\n",
              "    <tr style=\"text-align: right;\">\n",
              "      <th></th>\n",
              "      <th>battery_power</th>\n",
              "      <th>blue</th>\n",
              "      <th>clock_speed</th>\n",
              "      <th>dual_sim</th>\n",
              "      <th>fc</th>\n",
              "      <th>four_g</th>\n",
              "      <th>int_memory</th>\n",
              "      <th>m_dep</th>\n",
              "      <th>mobile_wt</th>\n",
              "      <th>n_cores</th>\n",
              "      <th>pc</th>\n",
              "      <th>px_height</th>\n",
              "      <th>px_width</th>\n",
              "      <th>ram</th>\n",
              "      <th>sc_h</th>\n",
              "      <th>sc_w</th>\n",
              "      <th>talk_time</th>\n",
              "      <th>three_g</th>\n",
              "      <th>touch_screen</th>\n",
              "      <th>wifi</th>\n",
              "    </tr>\n",
              "  </thead>\n",
              "  <tbody>\n",
              "    <tr>\n",
              "      <th>0</th>\n",
              "      <td>0.227789</td>\n",
              "      <td>0.0</td>\n",
              "      <td>0.68</td>\n",
              "      <td>0.0</td>\n",
              "      <td>0.052632</td>\n",
              "      <td>0.0</td>\n",
              "      <td>0.080645</td>\n",
              "      <td>0.555556</td>\n",
              "      <td>0.900000</td>\n",
              "      <td>0.142857</td>\n",
              "      <td>0.10</td>\n",
              "      <td>0.010204</td>\n",
              "      <td>0.170895</td>\n",
              "      <td>0.612774</td>\n",
              "      <td>0.285714</td>\n",
              "      <td>0.388889</td>\n",
              "      <td>0.944444</td>\n",
              "      <td>0.0</td>\n",
              "      <td>0.0</td>\n",
              "      <td>1.0</td>\n",
              "    </tr>\n",
              "    <tr>\n",
              "      <th>1</th>\n",
              "      <td>0.347361</td>\n",
              "      <td>1.0</td>\n",
              "      <td>0.00</td>\n",
              "      <td>1.0</td>\n",
              "      <td>0.000000</td>\n",
              "      <td>1.0</td>\n",
              "      <td>0.822581</td>\n",
              "      <td>0.666667</td>\n",
              "      <td>0.466667</td>\n",
              "      <td>0.285714</td>\n",
              "      <td>0.30</td>\n",
              "      <td>0.461735</td>\n",
              "      <td>0.993324</td>\n",
              "      <td>0.634687</td>\n",
              "      <td>0.857143</td>\n",
              "      <td>0.166667</td>\n",
              "      <td>0.277778</td>\n",
              "      <td>1.0</td>\n",
              "      <td>1.0</td>\n",
              "      <td>0.0</td>\n",
              "    </tr>\n",
              "    <tr>\n",
              "      <th>2</th>\n",
              "      <td>0.041416</td>\n",
              "      <td>1.0</td>\n",
              "      <td>0.00</td>\n",
              "      <td>1.0</td>\n",
              "      <td>0.105263</td>\n",
              "      <td>1.0</td>\n",
              "      <td>0.629032</td>\n",
              "      <td>0.888889</td>\n",
              "      <td>0.541667</td>\n",
              "      <td>0.571429</td>\n",
              "      <td>0.30</td>\n",
              "      <td>0.644388</td>\n",
              "      <td>0.811749</td>\n",
              "      <td>0.627205</td>\n",
              "      <td>0.428571</td>\n",
              "      <td>0.111111</td>\n",
              "      <td>0.388889</td>\n",
              "      <td>1.0</td>\n",
              "      <td>1.0</td>\n",
              "      <td>0.0</td>\n",
              "    </tr>\n",
              "    <tr>\n",
              "      <th>3</th>\n",
              "      <td>0.076152</td>\n",
              "      <td>1.0</td>\n",
              "      <td>0.80</td>\n",
              "      <td>0.0</td>\n",
              "      <td>0.000000</td>\n",
              "      <td>0.0</td>\n",
              "      <td>0.129032</td>\n",
              "      <td>0.777778</td>\n",
              "      <td>0.425000</td>\n",
              "      <td>0.714286</td>\n",
              "      <td>0.45</td>\n",
              "      <td>0.620408</td>\n",
              "      <td>0.858478</td>\n",
              "      <td>0.671566</td>\n",
              "      <td>0.785714</td>\n",
              "      <td>0.444444</td>\n",
              "      <td>0.500000</td>\n",
              "      <td>1.0</td>\n",
              "      <td>0.0</td>\n",
              "      <td>0.0</td>\n",
              "    </tr>\n",
              "    <tr>\n",
              "      <th>4</th>\n",
              "      <td>0.881764</td>\n",
              "      <td>1.0</td>\n",
              "      <td>0.28</td>\n",
              "      <td>0.0</td>\n",
              "      <td>0.684211</td>\n",
              "      <td>1.0</td>\n",
              "      <td>0.677419</td>\n",
              "      <td>0.555556</td>\n",
              "      <td>0.508333</td>\n",
              "      <td>0.142857</td>\n",
              "      <td>0.70</td>\n",
              "      <td>0.616327</td>\n",
              "      <td>0.475300</td>\n",
              "      <td>0.308658</td>\n",
              "      <td>0.214286</td>\n",
              "      <td>0.111111</td>\n",
              "      <td>0.722222</td>\n",
              "      <td>1.0</td>\n",
              "      <td>1.0</td>\n",
              "      <td>0.0</td>\n",
              "    </tr>\n",
              "  </tbody>\n",
              "</table>\n",
              "</div>\n",
              "      <button class=\"colab-df-convert\" onclick=\"convertToInteractive('df-7b66ab16-a558-4c04-810d-5654885829d4')\"\n",
              "              title=\"Convert this dataframe to an interactive table.\"\n",
              "              style=\"display:none;\">\n",
              "        \n",
              "  <svg xmlns=\"http://www.w3.org/2000/svg\" height=\"24px\"viewBox=\"0 0 24 24\"\n",
              "       width=\"24px\">\n",
              "    <path d=\"M0 0h24v24H0V0z\" fill=\"none\"/>\n",
              "    <path d=\"M18.56 5.44l.94 2.06.94-2.06 2.06-.94-2.06-.94-.94-2.06-.94 2.06-2.06.94zm-11 1L8.5 8.5l.94-2.06 2.06-.94-2.06-.94L8.5 2.5l-.94 2.06-2.06.94zm10 10l.94 2.06.94-2.06 2.06-.94-2.06-.94-.94-2.06-.94 2.06-2.06.94z\"/><path d=\"M17.41 7.96l-1.37-1.37c-.4-.4-.92-.59-1.43-.59-.52 0-1.04.2-1.43.59L10.3 9.45l-7.72 7.72c-.78.78-.78 2.05 0 2.83L4 21.41c.39.39.9.59 1.41.59.51 0 1.02-.2 1.41-.59l7.78-7.78 2.81-2.81c.8-.78.8-2.07 0-2.86zM5.41 20L4 18.59l7.72-7.72 1.47 1.35L5.41 20z\"/>\n",
              "  </svg>\n",
              "      </button>\n",
              "      \n",
              "  <style>\n",
              "    .colab-df-container {\n",
              "      display:flex;\n",
              "      flex-wrap:wrap;\n",
              "      gap: 12px;\n",
              "    }\n",
              "\n",
              "    .colab-df-convert {\n",
              "      background-color: #E8F0FE;\n",
              "      border: none;\n",
              "      border-radius: 50%;\n",
              "      cursor: pointer;\n",
              "      display: none;\n",
              "      fill: #1967D2;\n",
              "      height: 32px;\n",
              "      padding: 0 0 0 0;\n",
              "      width: 32px;\n",
              "    }\n",
              "\n",
              "    .colab-df-convert:hover {\n",
              "      background-color: #E2EBFA;\n",
              "      box-shadow: 0px 1px 2px rgba(60, 64, 67, 0.3), 0px 1px 3px 1px rgba(60, 64, 67, 0.15);\n",
              "      fill: #174EA6;\n",
              "    }\n",
              "\n",
              "    [theme=dark] .colab-df-convert {\n",
              "      background-color: #3B4455;\n",
              "      fill: #D2E3FC;\n",
              "    }\n",
              "\n",
              "    [theme=dark] .colab-df-convert:hover {\n",
              "      background-color: #434B5C;\n",
              "      box-shadow: 0px 1px 3px 1px rgba(0, 0, 0, 0.15);\n",
              "      filter: drop-shadow(0px 1px 2px rgba(0, 0, 0, 0.3));\n",
              "      fill: #FFFFFF;\n",
              "    }\n",
              "  </style>\n",
              "\n",
              "      <script>\n",
              "        const buttonEl =\n",
              "          document.querySelector('#df-7b66ab16-a558-4c04-810d-5654885829d4 button.colab-df-convert');\n",
              "        buttonEl.style.display =\n",
              "          google.colab.kernel.accessAllowed ? 'block' : 'none';\n",
              "\n",
              "        async function convertToInteractive(key) {\n",
              "          const element = document.querySelector('#df-7b66ab16-a558-4c04-810d-5654885829d4');\n",
              "          const dataTable =\n",
              "            await google.colab.kernel.invokeFunction('convertToInteractive',\n",
              "                                                     [key], {});\n",
              "          if (!dataTable) return;\n",
              "\n",
              "          const docLinkHtml = 'Like what you see? Visit the ' +\n",
              "            '<a target=\"_blank\" href=https://colab.research.google.com/notebooks/data_table.ipynb>data table notebook</a>'\n",
              "            + ' to learn more about interactive tables.';\n",
              "          element.innerHTML = '';\n",
              "          dataTable['output_type'] = 'display_data';\n",
              "          await google.colab.output.renderOutput(dataTable, element);\n",
              "          const docLink = document.createElement('div');\n",
              "          docLink.innerHTML = docLinkHtml;\n",
              "          element.appendChild(docLink);\n",
              "        }\n",
              "      </script>\n",
              "    </div>\n",
              "  </div>\n",
              "  "
            ]
          },
          "metadata": {},
          "execution_count": 53
        }
      ]
    },
    {
      "cell_type": "markdown",
      "source": [
        "#Removing handle null values (if any)"
      ],
      "metadata": {
        "id": "vyMc4LDbmhP2"
      }
    },
    {
      "cell_type": "code",
      "source": [
        "pd.isnull(data).sum()"
      ],
      "metadata": {
        "colab": {
          "base_uri": "https://localhost:8080/"
        },
        "id": "Er1O4_DkNA3o",
        "outputId": "5787a405-d5e3-422f-86a7-83b04da0564e"
      },
      "execution_count": 54,
      "outputs": [
        {
          "output_type": "execute_result",
          "data": {
            "text/plain": [
              "battery_power    0\n",
              "blue             0\n",
              "clock_speed      0\n",
              "dual_sim         0\n",
              "fc               0\n",
              "four_g           0\n",
              "int_memory       0\n",
              "m_dep            0\n",
              "mobile_wt        0\n",
              "n_cores          0\n",
              "pc               0\n",
              "px_height        0\n",
              "px_width         0\n",
              "ram              0\n",
              "sc_h             0\n",
              "sc_w             0\n",
              "talk_time        0\n",
              "three_g          0\n",
              "touch_screen     0\n",
              "wifi             0\n",
              "dtype: int64"
            ]
          },
          "metadata": {},
          "execution_count": 54
        }
      ]
    },
    {
      "cell_type": "code",
      "source": [
        "data = data.dropna(axis=0,inplace=False)"
      ],
      "metadata": {
        "id": "NAVDBk4b64IL"
      },
      "execution_count": 55,
      "outputs": []
    },
    {
      "cell_type": "code",
      "source": [
        "data1.columns"
      ],
      "metadata": {
        "colab": {
          "base_uri": "https://localhost:8080/"
        },
        "id": "CsmnVGptUaIP",
        "outputId": "c4266a42-9b58-4f92-9b7f-d2acf19dd030"
      },
      "execution_count": 56,
      "outputs": [
        {
          "output_type": "execute_result",
          "data": {
            "text/plain": [
              "Index(['battery_power', 'blue', 'clock_speed', 'dual_sim', 'fc', 'four_g',\n",
              "       'int_memory', 'm_dep', 'mobile_wt', 'n_cores', 'pc', 'px_height',\n",
              "       'px_width', 'ram', 'sc_h', 'sc_w', 'talk_time', 'three_g',\n",
              "       'touch_screen', 'wifi', 'price_range'],\n",
              "      dtype='object')"
            ]
          },
          "metadata": {},
          "execution_count": 56
        }
      ]
    },
    {
      "cell_type": "markdown",
      "source": [
        "#Price Range"
      ],
      "metadata": {
        "id": "_365wsgCNZm6"
      }
    },
    {
      "cell_type": "code",
      "source": [
        "y = data1['price_range']\n",
        "x = data"
      ],
      "metadata": {
        "id": "4A1ZGEKqNhmJ"
      },
      "execution_count": 57,
      "outputs": []
    },
    {
      "cell_type": "code",
      "source": [
        "y.unique()"
      ],
      "metadata": {
        "colab": {
          "base_uri": "https://localhost:8080/"
        },
        "id": "CFWpPK2TN3vM",
        "outputId": "4f6dbe97-4ef1-4c64-e89f-6ed403512b03"
      },
      "execution_count": 58,
      "outputs": [
        {
          "output_type": "execute_result",
          "data": {
            "text/plain": [
              "array([1, 2, 3, 0])"
            ]
          },
          "metadata": {},
          "execution_count": 58
        }
      ]
    },
    {
      "cell_type": "code",
      "source": [
        "# Balanced or Unbalanced based on the Price Range\n",
        "# 1. LOW COST\n",
        "# 2. MEDIUM COST\n",
        "# 3. HIGH COST\n",
        "# 4. VERY HIGH COST"
      ],
      "metadata": {
        "id": "7VmPmD5V7Cpd"
      },
      "execution_count": 59,
      "outputs": []
    },
    {
      "cell_type": "code",
      "source": [
        "labels = [\"LOW COST\", \"MEDIUM COST\", \"HIGH COST\", \"VERY HIGH COST\"]\n",
        "values = data1['price_range'].value_counts().values\n",
        "colors = ['lightcoral','turquoise','yellowgreen', 'dimgray']\n",
        "fig1, ax1 = plt.subplots()\n",
        "ax1.pie(values, labels=labels, colors=colors, autopct='%1.1f%%', shadow=False, startangle=90)\n",
        "ax1.set_title('Balanced or Unbalanced?')\n",
        "plt.show()"
      ],
      "metadata": {
        "colab": {
          "base_uri": "https://localhost:8080/",
          "height": 428
        },
        "id": "Np7vEeyMN7a8",
        "outputId": "ea7f4153-b114-45bd-b623-355029a64d46"
      },
      "execution_count": 60,
      "outputs": [
        {
          "output_type": "display_data",
          "data": {
            "text/plain": [
              "<Figure size 640x480 with 1 Axes>"
            ],
            "image/png": "[encoded data removed]"
          },
          "metadata": {}
        }
      ]
    },
    {
      "cell_type": "markdown",
      "source": [
        "#Spliting data into training and testing data"
      ],
      "metadata": {
        "id": "wRzP5no6j85m"
      }
    },
    {
      "cell_type": "code",
      "source": [
        "from numpy.random import RandomState\n",
        "rng = RandomState()\n",
        "\n",
        "#Spliting the given data into two parts i.e., Training data and Testing data\n",
        "\n",
        "train = data.sample(frac=0.9, random_state=rng)\n",
        "test = data.loc[~data.index.isin(train.index)]"
      ],
      "metadata": {
        "id": "etKhQpRAKd_O"
      },
      "execution_count": 61,
      "outputs": []
    },
    {
      "cell_type": "code",
      "source": [
        "train"
      ],
      "metadata": {
        "colab": {
          "base_uri": "https://localhost:8080/",
          "height": 487
        },
        "id": "q6MSxKE9Lr6d",
        "outputId": "b3d7bbee-df8b-49ca-fc13-94d7aad544c5"
      },
      "execution_count": 62,
      "outputs": [
        {
          "output_type": "execute_result",
          "data": {
            "text/plain": [
              "      battery_power  blue  clock_speed  dual_sim        fc  four_g  \\\n",
              "1688       0.114896   1.0         0.56       0.0  0.684211     1.0   \n",
              "1808       0.471610   0.0         0.00       0.0  0.000000     0.0   \n",
              "934        0.034736   0.0         0.00       1.0  0.105263     1.0   \n",
              "1852       0.098196   1.0         0.52       0.0  0.052632     1.0   \n",
              "1079       0.929860   1.0         0.00       1.0  0.052632     0.0   \n",
              "...             ...   ...          ...       ...       ...     ...   \n",
              "112        0.244489   0.0         0.36       1.0  0.000000     1.0   \n",
              "1218       0.881096   1.0         0.36       0.0  0.263158     0.0   \n",
              "1274       0.735471   0.0         0.88       0.0  0.210526     1.0   \n",
              "1950       0.708083   1.0         0.44       1.0  0.052632     1.0   \n",
              "1949       0.171009   1.0         0.16       1.0  0.210526     0.0   \n",
              "\n",
              "      int_memory     m_dep  mobile_wt   n_cores    pc  px_height  px_width  \\\n",
              "1688    0.532258  0.333333   0.516667  0.714286  0.70   0.559184  0.714286   \n",
              "1808    0.903226  0.222222   0.266667  1.000000  0.00   0.207143  0.120828   \n",
              "934     0.338710  0.444444   0.325000  0.285714  0.15   0.506633  0.678905   \n",
              "1852    0.935484  0.000000   0.958333  0.428571  0.20   0.475000  0.875167   \n",
              "1079    0.338710  0.000000   0.825000  1.000000  0.15   0.613776  0.622163   \n",
              "...          ...       ...        ...       ...   ...        ...       ...   \n",
              "112     0.032258  0.666667   0.458333  0.714286  0.05   0.035714  0.983979   \n",
              "1218    0.790323  0.888889   0.691667  0.857143  0.50   0.103061  0.923899   \n",
              "1274    0.709677  0.555556   0.316667  0.000000  0.25   0.139286  0.375167   \n",
              "1950    0.403226  0.777778   0.783333  0.285714  0.50   0.337755  0.249666   \n",
              "1949    1.000000  0.444444   0.641667  0.857143  0.25   0.058163  0.212951   \n",
              "\n",
              "           ram      sc_h      sc_w  talk_time  three_g  touch_screen  wifi  \n",
              "1688  0.877873  0.928571  0.944444   0.111111      1.0           0.0   1.0  \n",
              "1808  0.066007  0.142857  0.166667   0.166667      1.0           1.0   0.0  \n",
              "934   0.728220  0.142857  0.166667   0.666667      1.0           0.0   0.0  \n",
              "1852  0.150454  0.357143  0.166667   0.111111      1.0           0.0   0.0  \n",
              "1079  0.327632  0.714286  0.388889   0.833333      0.0           1.0   0.0  \n",
              "...        ...       ...       ...        ...      ...           ...   ...  \n",
              "112   0.142704  0.571429  0.333333   0.055556      1.0           1.0   0.0  \n",
              "1218  0.594602  0.428571  0.500000   0.500000      0.0           0.0   0.0  \n",
              "1274  0.429182  0.785714  0.500000   0.000000      1.0           0.0   1.0  \n",
              "1950  0.253608  0.500000  0.388889   0.055556      1.0           1.0   0.0  \n",
              "1949  0.849011  0.071429  0.277778   0.444444      1.0           1.0   0.0  \n",
              "\n",
              "[1800 rows x 20 columns]"
            ],
            "text/html": [
              "\n",
              "  <div id=\"df-ba0464f2-d456-4f8d-a910-a00208ce349c\">\n",
              "    <div class=\"colab-df-container\">\n",
              "      <div>\n",
              "<style scoped>\n",
              "    .dataframe tbody tr th:only-of-type {\n",
              "        vertical-align: middle;\n",
              "    }\n",
              "\n",
              "    .dataframe tbody tr th {\n",
              "        vertical-align: top;\n",
              "    }\n",
              "\n",
              "    .dataframe thead th {\n",
              "        text-align: right;\n",
              "    }\n",
              "</style>\n",
              "<table border=\"1\" class=\"dataframe\">\n",
              "  <thead>\n",
              "    <tr style=\"text-align: right;\">\n",
              "      <th></th>\n",
              "      <th>battery_power</th>\n",
              "      <th>blue</th>\n",
              "      <th>clock_speed</th>\n",
              "      <th>dual_sim</th>\n",
              "      <th>fc</th>\n",
              "      <th>four_g</th>\n",
              "      <th>int_memory</th>\n",
              "      <th>m_dep</th>\n",
              "      <th>mobile_wt</th>\n",
              "      <th>n_cores</th>\n",
              "      <th>pc</th>\n",
              "      <th>px_height</th>\n",
              "      <th>px_width</th>\n",
              "      <th>ram</th>\n",
              "      <th>sc_h</th>\n",
              "      <th>sc_w</th>\n",
              "      <th>talk_time</th>\n",
              "      <th>three_g</th>\n",
              "      <th>touch_screen</th>\n",
              "      <th>wifi</th>\n",
              "    </tr>\n",
              "  </thead>\n",
              "  <tbody>\n",
              "    <tr>\n",
              "      <th>1688</th>\n",
              "      <td>0.114896</td>\n",
              "      <td>1.0</td>\n",
              "      <td>0.56</td>\n",
              "      <td>0.0</td>\n",
              "      <td>0.684211</td>\n",
              "      <td>1.0</td>\n",
              "      <td>0.532258</td>\n",
              "      <td>0.333333</td>\n",
              "      <td>0.516667</td>\n",
              "      <td>0.714286</td>\n",
              "      <td>0.70</td>\n",
              "      <td>0.559184</td>\n",
              "      <td>0.714286</td>\n",
              "      <td>0.877873</td>\n",
              "      <td>0.928571</td>\n",
              "      <td>0.944444</td>\n",
              "      <td>0.111111</td>\n",
              "      <td>1.0</td>\n",
              "      <td>0.0</td>\n",
              "      <td>1.0</td>\n",
              "    </tr>\n",
              "    <tr>\n",
              "      <th>1808</th>\n",
              "      <td>0.471610</td>\n",
              "      <td>0.0</td>\n",
              "      <td>0.00</td>\n",
              "      <td>0.0</td>\n",
              "      <td>0.000000</td>\n",
              "      <td>0.0</td>\n",
              "      <td>0.903226</td>\n",
              "      <td>0.222222</td>\n",
              "      <td>0.266667</td>\n",
              "      <td>1.000000</td>\n",
              "      <td>0.00</td>\n",
              "      <td>0.207143</td>\n",
              "      <td>0.120828</td>\n",
              "      <td>0.066007</td>\n",
              "      <td>0.142857</td>\n",
              "      <td>0.166667</td>\n",
              "      <td>0.166667</td>\n",
              "      <td>1.0</td>\n",
              "      <td>1.0</td>\n",
              "      <td>0.0</td>\n",
              "    </tr>\n",
              "    <tr>\n",
              "      <th>934</th>\n",
              "      <td>0.034736</td>\n",
              "      <td>0.0</td>\n",
              "      <td>0.00</td>\n",
              "      <td>1.0</td>\n",
              "      <td>0.105263</td>\n",
              "      <td>1.0</td>\n",
              "      <td>0.338710</td>\n",
              "      <td>0.444444</td>\n",
              "      <td>0.325000</td>\n",
              "      <td>0.285714</td>\n",
              "      <td>0.15</td>\n",
              "      <td>0.506633</td>\n",
              "      <td>0.678905</td>\n",
              "      <td>0.728220</td>\n",
              "      <td>0.142857</td>\n",
              "      <td>0.166667</td>\n",
              "      <td>0.666667</td>\n",
              "      <td>1.0</td>\n",
              "      <td>0.0</td>\n",
              "      <td>0.0</td>\n",
              "    </tr>\n",
              "    <tr>\n",
              "      <th>1852</th>\n",
              "      <td>0.098196</td>\n",
              "      <td>1.0</td>\n",
              "      <td>0.52</td>\n",
              "      <td>0.0</td>\n",
              "      <td>0.052632</td>\n",
              "      <td>1.0</td>\n",
              "      <td>0.935484</td>\n",
              "      <td>0.000000</td>\n",
              "      <td>0.958333</td>\n",
              "      <td>0.428571</td>\n",
              "      <td>0.20</td>\n",
              "      <td>0.475000</td>\n",
              "      <td>0.875167</td>\n",
              "      <td>0.150454</td>\n",
              "      <td>0.357143</td>\n",
              "      <td>0.166667</td>\n",
              "      <td>0.111111</td>\n",
              "      <td>1.0</td>\n",
              "      <td>0.0</td>\n",
              "      <td>0.0</td>\n",
              "    </tr>\n",
              "    <tr>\n",
              "      <th>1079</th>\n",
              "      <td>0.929860</td>\n",
              "      <td>1.0</td>\n",
              "      <td>0.00</td>\n",
              "      <td>1.0</td>\n",
              "      <td>0.052632</td>\n",
              "      <td>0.0</td>\n",
              "      <td>0.338710</td>\n",
              "      <td>0.000000</td>\n",
              "      <td>0.825000</td>\n",
              "      <td>1.000000</td>\n",
              "      <td>0.15</td>\n",
              "      <td>0.613776</td>\n",
              "      <td>0.622163</td>\n",
              "      <td>0.327632</td>\n",
              "      <td>0.714286</td>\n",
              "      <td>0.388889</td>\n",
              "      <td>0.833333</td>\n",
              "      <td>0.0</td>\n",
              "      <td>1.0</td>\n",
              "      <td>0.0</td>\n",
              "    </tr>\n",
              "    <tr>\n",
              "      <th>...</th>\n",
              "      <td>...</td>\n",
              "      <td>...</td>\n",
              "      <td>...</td>\n",
              "      <td>...</td>\n",
              "      <td>...</td>\n",
              "      <td>...</td>\n",
              "      <td>...</td>\n",
              "      <td>...</td>\n",
              "      <td>...</td>\n",
              "      <td>...</td>\n",
              "      <td>...</td>\n",
              "      <td>...</td>\n",
              "      <td>...</td>\n",
              "      <td>...</td>\n",
              "      <td>...</td>\n",
              "      <td>...</td>\n",
              "      <td>...</td>\n",
              "      <td>...</td>\n",
              "      <td>...</td>\n",
              "      <td>...</td>\n",
              "    </tr>\n",
              "    <tr>\n",
              "      <th>112</th>\n",
              "      <td>0.244489</td>\n",
              "      <td>0.0</td>\n",
              "      <td>0.36</td>\n",
              "      <td>1.0</td>\n",
              "      <td>0.000000</td>\n",
              "      <td>1.0</td>\n",
              "      <td>0.032258</td>\n",
              "      <td>0.666667</td>\n",
              "      <td>0.458333</td>\n",
              "      <td>0.714286</td>\n",
              "      <td>0.05</td>\n",
              "      <td>0.035714</td>\n",
              "      <td>0.983979</td>\n",
              "      <td>0.142704</td>\n",
              "      <td>0.571429</td>\n",
              "      <td>0.333333</td>\n",
              "      <td>0.055556</td>\n",
              "      <td>1.0</td>\n",
              "      <td>1.0</td>\n",
              "      <td>0.0</td>\n",
              "    </tr>\n",
              "    <tr>\n",
              "      <th>1218</th>\n",
              "      <td>0.881096</td>\n",
              "      <td>1.0</td>\n",
              "      <td>0.36</td>\n",
              "      <td>0.0</td>\n",
              "      <td>0.263158</td>\n",
              "      <td>0.0</td>\n",
              "      <td>0.790323</td>\n",
              "      <td>0.888889</td>\n",
              "      <td>0.691667</td>\n",
              "      <td>0.857143</td>\n",
              "      <td>0.50</td>\n",
              "      <td>0.103061</td>\n",
              "      <td>0.923899</td>\n",
              "      <td>0.594602</td>\n",
              "      <td>0.428571</td>\n",
              "      <td>0.500000</td>\n",
              "      <td>0.500000</td>\n",
              "      <td>0.0</td>\n",
              "      <td>0.0</td>\n",
              "      <td>0.0</td>\n",
              "    </tr>\n",
              "    <tr>\n",
              "      <th>1274</th>\n",
              "      <td>0.735471</td>\n",
              "      <td>0.0</td>\n",
              "      <td>0.88</td>\n",
              "      <td>0.0</td>\n",
              "      <td>0.210526</td>\n",
              "      <td>1.0</td>\n",
              "      <td>0.709677</td>\n",
              "      <td>0.555556</td>\n",
              "      <td>0.316667</td>\n",
              "      <td>0.000000</td>\n",
              "      <td>0.25</td>\n",
              "      <td>0.139286</td>\n",
              "      <td>0.375167</td>\n",
              "      <td>0.429182</td>\n",
              "      <td>0.785714</td>\n",
              "      <td>0.500000</td>\n",
              "      <td>0.000000</td>\n",
              "      <td>1.0</td>\n",
              "      <td>0.0</td>\n",
              "      <td>1.0</td>\n",
              "    </tr>\n",
              "    <tr>\n",
              "      <th>1950</th>\n",
              "      <td>0.708083</td>\n",
              "      <td>1.0</td>\n",
              "      <td>0.44</td>\n",
              "      <td>1.0</td>\n",
              "      <td>0.052632</td>\n",
              "      <td>1.0</td>\n",
              "      <td>0.403226</td>\n",
              "      <td>0.777778</td>\n",
              "      <td>0.783333</td>\n",
              "      <td>0.285714</td>\n",
              "      <td>0.50</td>\n",
              "      <td>0.337755</td>\n",
              "      <td>0.249666</td>\n",
              "      <td>0.253608</td>\n",
              "      <td>0.500000</td>\n",
              "      <td>0.388889</td>\n",
              "      <td>0.055556</td>\n",
              "      <td>1.0</td>\n",
              "      <td>1.0</td>\n",
              "      <td>0.0</td>\n",
              "    </tr>\n",
              "    <tr>\n",
              "      <th>1949</th>\n",
              "      <td>0.171009</td>\n",
              "      <td>1.0</td>\n",
              "      <td>0.16</td>\n",
              "      <td>1.0</td>\n",
              "      <td>0.210526</td>\n",
              "      <td>0.0</td>\n",
              "      <td>1.000000</td>\n",
              "      <td>0.444444</td>\n",
              "      <td>0.641667</td>\n",
              "      <td>0.857143</td>\n",
              "      <td>0.25</td>\n",
              "      <td>0.058163</td>\n",
              "      <td>0.212951</td>\n",
              "      <td>0.849011</td>\n",
              "      <td>0.071429</td>\n",
              "      <td>0.277778</td>\n",
              "      <td>0.444444</td>\n",
              "      <td>1.0</td>\n",
              "      <td>1.0</td>\n",
              "      <td>0.0</td>\n",
              "    </tr>\n",
              "  </tbody>\n",
              "</table>\n",
              "<p>1800 rows × 20 columns</p>\n",
              "</div>\n",
              "      <button class=\"colab-df-convert\" onclick=\"convertToInteractive('df-ba0464f2-d456-4f8d-a910-a00208ce349c')\"\n",
              "              title=\"Convert this dataframe to an interactive table.\"\n",
              "              style=\"display:none;\">\n",
              "        \n",
              "  <svg xmlns=\"http://www.w3.org/2000/svg\" height=\"24px\"viewBox=\"0 0 24 24\"\n",
              "       width=\"24px\">\n",
              "    <path d=\"M0 0h24v24H0V0z\" fill=\"none\"/>\n",
              "    <path d=\"M18.56 5.44l.94 2.06.94-2.06 2.06-.94-2.06-.94-.94-2.06-.94 2.06-2.06.94zm-11 1L8.5 8.5l.94-2.06 2.06-.94-2.06-.94L8.5 2.5l-.94 2.06-2.06.94zm10 10l.94 2.06.94-2.06 2.06-.94-2.06-.94-.94-2.06-.94 2.06-2.06.94z\"/><path d=\"M17.41 7.96l-1.37-1.37c-.4-.4-.92-.59-1.43-.59-.52 0-1.04.2-1.43.59L10.3 9.45l-7.72 7.72c-.78.78-.78 2.05 0 2.83L4 21.41c.39.39.9.59 1.41.59.51 0 1.02-.2 1.41-.59l7.78-7.78 2.81-2.81c.8-.78.8-2.07 0-2.86zM5.41 20L4 18.59l7.72-7.72 1.47 1.35L5.41 20z\"/>\n",
              "  </svg>\n",
              "      </button>\n",
              "      \n",
              "  <style>\n",
              "    .colab-df-container {\n",
              "      display:flex;\n",
              "      flex-wrap:wrap;\n",
              "      gap: 12px;\n",
              "    }\n",
              "\n",
              "    .colab-df-convert {\n",
              "      background-color: #E8F0FE;\n",
              "      border: none;\n",
              "      border-radius: 50%;\n",
              "      cursor: pointer;\n",
              "      display: none;\n",
              "      fill: #1967D2;\n",
              "      height: 32px;\n",
              "      padding: 0 0 0 0;\n",
              "      width: 32px;\n",
              "    }\n",
              "\n",
              "    .colab-df-convert:hover {\n",
              "      background-color: #E2EBFA;\n",
              "      box-shadow: 0px 1px 2px rgba(60, 64, 67, 0.3), 0px 1px 3px 1px rgba(60, 64, 67, 0.15);\n",
              "      fill: #174EA6;\n",
              "    }\n",
              "\n",
              "    [theme=dark] .colab-df-convert {\n",
              "      background-color: #3B4455;\n",
              "      fill: #D2E3FC;\n",
              "    }\n",
              "\n",
              "    [theme=dark] .colab-df-convert:hover {\n",
              "      background-color: #434B5C;\n",
              "      box-shadow: 0px 1px 3px 1px rgba(0, 0, 0, 0.15);\n",
              "      filter: drop-shadow(0px 1px 2px rgba(0, 0, 0, 0.3));\n",
              "      fill: #FFFFFF;\n",
              "    }\n",
              "  </style>\n",
              "\n",
              "      <script>\n",
              "        const buttonEl =\n",
              "          document.querySelector('#df-ba0464f2-d456-4f8d-a910-a00208ce349c button.colab-df-convert');\n",
              "        buttonEl.style.display =\n",
              "          google.colab.kernel.accessAllowed ? 'block' : 'none';\n",
              "\n",
              "        async function convertToInteractive(key) {\n",
              "          const element = document.querySelector('#df-ba0464f2-d456-4f8d-a910-a00208ce349c');\n",
              "          const dataTable =\n",
              "            await google.colab.kernel.invokeFunction('convertToInteractive',\n",
              "                                                     [key], {});\n",
              "          if (!dataTable) return;\n",
              "\n",
              "          const docLinkHtml = 'Like what you see? Visit the ' +\n",
              "            '<a target=\"_blank\" href=https://colab.research.google.com/notebooks/data_table.ipynb>data table notebook</a>'\n",
              "            + ' to learn more about interactive tables.';\n",
              "          element.innerHTML = '';\n",
              "          dataTable['output_type'] = 'display_data';\n",
              "          await google.colab.output.renderOutput(dataTable, element);\n",
              "          const docLink = document.createElement('div');\n",
              "          docLink.innerHTML = docLinkHtml;\n",
              "          element.appendChild(docLink);\n",
              "        }\n",
              "      </script>\n",
              "    </div>\n",
              "  </div>\n",
              "  "
            ]
          },
          "metadata": {},
          "execution_count": 62
        }
      ]
    },
    {
      "cell_type": "code",
      "source": [
        "test"
      ],
      "metadata": {
        "colab": {
          "base_uri": "https://localhost:8080/",
          "height": 487
        },
        "id": "FB3n0hRwLx2M",
        "outputId": "311d6ed9-c9d2-4883-e551-1cfd18d350ea"
      },
      "execution_count": 63,
      "outputs": [
        {
          "output_type": "execute_result",
          "data": {
            "text/plain": [
              "      battery_power  blue  clock_speed  dual_sim        fc  four_g  \\\n",
              "26         0.012024   1.0         0.44       1.0  0.368421     1.0   \n",
              "27         0.303941   0.0         0.00       0.0  0.052632     1.0   \n",
              "32         0.546426   1.0         0.16       0.0  0.157895     1.0   \n",
              "55         0.958584   0.0         0.64       1.0  0.526316     1.0   \n",
              "68         0.494990   0.0         0.24       1.0  0.000000     0.0   \n",
              "...             ...   ...          ...       ...       ...     ...   \n",
              "1937       0.597862   1.0         0.04       0.0  0.000000     0.0   \n",
              "1960       0.375418   0.0         0.60       0.0  0.000000     0.0   \n",
              "1989       0.056780   0.0         0.92       0.0  0.105263     0.0   \n",
              "1995       0.195725   1.0         0.00       1.0  0.000000     1.0   \n",
              "1998       0.675351   0.0         0.16       0.0  0.210526     1.0   \n",
              "\n",
              "      int_memory     m_dep  mobile_wt   n_cores    pc  px_height  px_width  \\\n",
              "26      0.790323  0.222222   0.433333  0.428571  0.95   0.280612  0.096796   \n",
              "27      0.629032  1.000000   0.525000  0.857143  0.30   0.260714  0.383845   \n",
              "32      0.629032  0.888889   0.225000  0.000000  0.90   0.043367  0.435247   \n",
              "55      0.709677  0.555556   0.200000  0.285714  1.00   0.340306  0.357810   \n",
              "68      0.129032  0.555556   0.708333  0.142857  0.05   0.234184  0.483979   \n",
              "...          ...       ...        ...       ...   ...        ...       ...   \n",
              "1937    0.564516  0.666667   0.450000  0.428571  0.75   0.285714  0.451936   \n",
              "1960    0.403226  0.111111   0.050000  0.714286  0.35   0.102551  0.054740   \n",
              "1989    0.209677  0.111111   0.025000  0.285714  0.55   0.122959  0.236315   \n",
              "1995    0.000000  0.777778   0.216667  0.714286  0.70   0.623469  0.927904   \n",
              "1998    0.709677  0.000000   0.541667  0.571429  0.25   0.171429  0.113485   \n",
              "\n",
              "           ram      sc_h      sc_w  talk_time  three_g  touch_screen  wifi  \n",
              "26    0.937199  0.785714  0.055556   0.111111      1.0           0.0   1.0  \n",
              "27    0.809727  0.857143  0.444444   0.555556      1.0           1.0   0.0  \n",
              "32    0.526724  0.928571  0.277778   0.055556      1.0           1.0   1.0  \n",
              "55    0.613576  0.642857  0.388889   0.611111      1.0           0.0   0.0  \n",
              "68    0.212186  0.428571  0.055556   0.111111      1.0           0.0   1.0  \n",
              "...        ...       ...       ...        ...      ...           ...   ...  \n",
              "1937  0.651523  0.928571  0.166667   0.944444      0.0           0.0   1.0  \n",
              "1960  0.644575  0.500000  0.277778   0.944444      0.0           0.0   0.0  \n",
              "1989  0.624265  0.500000  0.444444   0.055556      0.0           0.0   0.0  \n",
              "1995  0.110102  0.571429  0.222222   0.944444      1.0           1.0   0.0  \n",
              "1998  0.163816  0.928571  0.555556   0.944444      1.0           1.0   1.0  \n",
              "\n",
              "[200 rows x 20 columns]"
            ],
            "text/html": [
              "\n",
              "  <div id=\"df-a72efbbb-973f-4011-b288-7ef6392e0e04\">\n",
              "    <div class=\"colab-df-container\">\n",
              "      <div>\n",
              "<style scoped>\n",
              "    .dataframe tbody tr th:only-of-type {\n",
              "        vertical-align: middle;\n",
              "    }\n",
              "\n",
              "    .dataframe tbody tr th {\n",
              "        vertical-align: top;\n",
              "    }\n",
              "\n",
              "    .dataframe thead th {\n",
              "        text-align: right;\n",
              "    }\n",
              "</style>\n",
              "<table border=\"1\" class=\"dataframe\">\n",
              "  <thead>\n",
              "    <tr style=\"text-align: right;\">\n",
              "      <th></th>\n",
              "      <th>battery_power</th>\n",
              "      <th>blue</th>\n",
              "      <th>clock_speed</th>\n",
              "      <th>dual_sim</th>\n",
              "      <th>fc</th>\n",
              "      <th>four_g</th>\n",
              "      <th>int_memory</th>\n",
              "      <th>m_dep</th>\n",
              "      <th>mobile_wt</th>\n",
              "      <th>n_cores</th>\n",
              "      <th>pc</th>\n",
              "      <th>px_height</th>\n",
              "      <th>px_width</th>\n",
              "      <th>ram</th>\n",
              "      <th>sc_h</th>\n",
              "      <th>sc_w</th>\n",
              "      <th>talk_time</th>\n",
              "      <th>three_g</th>\n",
              "      <th>touch_screen</th>\n",
              "      <th>wifi</th>\n",
              "    </tr>\n",
              "  </thead>\n",
              "  <tbody>\n",
              "    <tr>\n",
              "      <th>26</th>\n",
              "      <td>0.012024</td>\n",
              "      <td>1.0</td>\n",
              "      <td>0.44</td>\n",
              "      <td>1.0</td>\n",
              "      <td>0.368421</td>\n",
              "      <td>1.0</td>\n",
              "      <td>0.790323</td>\n",
              "      <td>0.222222</td>\n",
              "      <td>0.433333</td>\n",
              "      <td>0.428571</td>\n",
              "      <td>0.95</td>\n",
              "      <td>0.280612</td>\n",
              "      <td>0.096796</td>\n",
              "      <td>0.937199</td>\n",
              "      <td>0.785714</td>\n",
              "      <td>0.055556</td>\n",
              "      <td>0.111111</td>\n",
              "      <td>1.0</td>\n",
              "      <td>0.0</td>\n",
              "      <td>1.0</td>\n",
              "    </tr>\n",
              "    <tr>\n",
              "      <th>27</th>\n",
              "      <td>0.303941</td>\n",
              "      <td>0.0</td>\n",
              "      <td>0.00</td>\n",
              "      <td>0.0</td>\n",
              "      <td>0.052632</td>\n",
              "      <td>1.0</td>\n",
              "      <td>0.629032</td>\n",
              "      <td>1.000000</td>\n",
              "      <td>0.525000</td>\n",
              "      <td>0.857143</td>\n",
              "      <td>0.30</td>\n",
              "      <td>0.260714</td>\n",
              "      <td>0.383845</td>\n",
              "      <td>0.809727</td>\n",
              "      <td>0.857143</td>\n",
              "      <td>0.444444</td>\n",
              "      <td>0.555556</td>\n",
              "      <td>1.0</td>\n",
              "      <td>1.0</td>\n",
              "      <td>0.0</td>\n",
              "    </tr>\n",
              "    <tr>\n",
              "      <th>32</th>\n",
              "      <td>0.546426</td>\n",
              "      <td>1.0</td>\n",
              "      <td>0.16</td>\n",
              "      <td>0.0</td>\n",
              "      <td>0.157895</td>\n",
              "      <td>1.0</td>\n",
              "      <td>0.629032</td>\n",
              "      <td>0.888889</td>\n",
              "      <td>0.225000</td>\n",
              "      <td>0.000000</td>\n",
              "      <td>0.90</td>\n",
              "      <td>0.043367</td>\n",
              "      <td>0.435247</td>\n",
              "      <td>0.526724</td>\n",
              "      <td>0.928571</td>\n",
              "      <td>0.277778</td>\n",
              "      <td>0.055556</td>\n",
              "      <td>1.0</td>\n",
              "      <td>1.0</td>\n",
              "      <td>1.0</td>\n",
              "    </tr>\n",
              "    <tr>\n",
              "      <th>55</th>\n",
              "      <td>0.958584</td>\n",
              "      <td>0.0</td>\n",
              "      <td>0.64</td>\n",
              "      <td>1.0</td>\n",
              "      <td>0.526316</td>\n",
              "      <td>1.0</td>\n",
              "      <td>0.709677</td>\n",
              "      <td>0.555556</td>\n",
              "      <td>0.200000</td>\n",
              "      <td>0.285714</td>\n",
              "      <td>1.00</td>\n",
              "      <td>0.340306</td>\n",
              "      <td>0.357810</td>\n",
              "      <td>0.613576</td>\n",
              "      <td>0.642857</td>\n",
              "      <td>0.388889</td>\n",
              "      <td>0.611111</td>\n",
              "      <td>1.0</td>\n",
              "      <td>0.0</td>\n",
              "      <td>0.0</td>\n",
              "    </tr>\n",
              "    <tr>\n",
              "      <th>68</th>\n",
              "      <td>0.494990</td>\n",
              "      <td>0.0</td>\n",
              "      <td>0.24</td>\n",
              "      <td>1.0</td>\n",
              "      <td>0.000000</td>\n",
              "      <td>0.0</td>\n",
              "      <td>0.129032</td>\n",
              "      <td>0.555556</td>\n",
              "      <td>0.708333</td>\n",
              "      <td>0.142857</td>\n",
              "      <td>0.05</td>\n",
              "      <td>0.234184</td>\n",
              "      <td>0.483979</td>\n",
              "      <td>0.212186</td>\n",
              "      <td>0.428571</td>\n",
              "      <td>0.055556</td>\n",
              "      <td>0.111111</td>\n",
              "      <td>1.0</td>\n",
              "      <td>0.0</td>\n",
              "      <td>1.0</td>\n",
              "    </tr>\n",
              "    <tr>\n",
              "      <th>...</th>\n",
              "      <td>...</td>\n",
              "      <td>...</td>\n",
              "      <td>...</td>\n",
              "      <td>...</td>\n",
              "      <td>...</td>\n",
              "      <td>...</td>\n",
              "      <td>...</td>\n",
              "      <td>...</td>\n",
              "      <td>...</td>\n",
              "      <td>...</td>\n",
              "      <td>...</td>\n",
              "      <td>...</td>\n",
              "      <td>...</td>\n",
              "      <td>...</td>\n",
              "      <td>...</td>\n",
              "      <td>...</td>\n",
              "      <td>...</td>\n",
              "      <td>...</td>\n",
              "      <td>...</td>\n",
              "      <td>...</td>\n",
              "    </tr>\n",
              "    <tr>\n",
              "      <th>1937</th>\n",
              "      <td>0.597862</td>\n",
              "      <td>1.0</td>\n",
              "      <td>0.04</td>\n",
              "      <td>0.0</td>\n",
              "      <td>0.000000</td>\n",
              "      <td>0.0</td>\n",
              "      <td>0.564516</td>\n",
              "      <td>0.666667</td>\n",
              "      <td>0.450000</td>\n",
              "      <td>0.428571</td>\n",
              "      <td>0.75</td>\n",
              "      <td>0.285714</td>\n",
              "      <td>0.451936</td>\n",
              "      <td>0.651523</td>\n",
              "      <td>0.928571</td>\n",
              "      <td>0.166667</td>\n",
              "      <td>0.944444</td>\n",
              "      <td>0.0</td>\n",
              "      <td>0.0</td>\n",
              "      <td>1.0</td>\n",
              "    </tr>\n",
              "    <tr>\n",
              "      <th>1960</th>\n",
              "      <td>0.375418</td>\n",
              "      <td>0.0</td>\n",
              "      <td>0.60</td>\n",
              "      <td>0.0</td>\n",
              "      <td>0.000000</td>\n",
              "      <td>0.0</td>\n",
              "      <td>0.403226</td>\n",
              "      <td>0.111111</td>\n",
              "      <td>0.050000</td>\n",
              "      <td>0.714286</td>\n",
              "      <td>0.35</td>\n",
              "      <td>0.102551</td>\n",
              "      <td>0.054740</td>\n",
              "      <td>0.644575</td>\n",
              "      <td>0.500000</td>\n",
              "      <td>0.277778</td>\n",
              "      <td>0.944444</td>\n",
              "      <td>0.0</td>\n",
              "      <td>0.0</td>\n",
              "      <td>0.0</td>\n",
              "    </tr>\n",
              "    <tr>\n",
              "      <th>1989</th>\n",
              "      <td>0.056780</td>\n",
              "      <td>0.0</td>\n",
              "      <td>0.92</td>\n",
              "      <td>0.0</td>\n",
              "      <td>0.105263</td>\n",
              "      <td>0.0</td>\n",
              "      <td>0.209677</td>\n",
              "      <td>0.111111</td>\n",
              "      <td>0.025000</td>\n",
              "      <td>0.285714</td>\n",
              "      <td>0.55</td>\n",
              "      <td>0.122959</td>\n",
              "      <td>0.236315</td>\n",
              "      <td>0.624265</td>\n",
              "      <td>0.500000</td>\n",
              "      <td>0.444444</td>\n",
              "      <td>0.055556</td>\n",
              "      <td>0.0</td>\n",
              "      <td>0.0</td>\n",
              "      <td>0.0</td>\n",
              "    </tr>\n",
              "    <tr>\n",
              "      <th>1995</th>\n",
              "      <td>0.195725</td>\n",
              "      <td>1.0</td>\n",
              "      <td>0.00</td>\n",
              "      <td>1.0</td>\n",
              "      <td>0.000000</td>\n",
              "      <td>1.0</td>\n",
              "      <td>0.000000</td>\n",
              "      <td>0.777778</td>\n",
              "      <td>0.216667</td>\n",
              "      <td>0.714286</td>\n",
              "      <td>0.70</td>\n",
              "      <td>0.623469</td>\n",
              "      <td>0.927904</td>\n",
              "      <td>0.110102</td>\n",
              "      <td>0.571429</td>\n",
              "      <td>0.222222</td>\n",
              "      <td>0.944444</td>\n",
              "      <td>1.0</td>\n",
              "      <td>1.0</td>\n",
              "      <td>0.0</td>\n",
              "    </tr>\n",
              "    <tr>\n",
              "      <th>1998</th>\n",
              "      <td>0.675351</td>\n",
              "      <td>0.0</td>\n",
              "      <td>0.16</td>\n",
              "      <td>0.0</td>\n",
              "      <td>0.210526</td>\n",
              "      <td>1.0</td>\n",
              "      <td>0.709677</td>\n",
              "      <td>0.000000</td>\n",
              "      <td>0.541667</td>\n",
              "      <td>0.571429</td>\n",
              "      <td>0.25</td>\n",
              "      <td>0.171429</td>\n",
              "      <td>0.113485</td>\n",
              "      <td>0.163816</td>\n",
              "      <td>0.928571</td>\n",
              "      <td>0.555556</td>\n",
              "      <td>0.944444</td>\n",
              "      <td>1.0</td>\n",
              "      <td>1.0</td>\n",
              "      <td>1.0</td>\n",
              "    </tr>\n",
              "  </tbody>\n",
              "</table>\n",
              "<p>200 rows × 20 columns</p>\n",
              "</div>\n",
              "      <button class=\"colab-df-convert\" onclick=\"convertToInteractive('df-a72efbbb-973f-4011-b288-7ef6392e0e04')\"\n",
              "              title=\"Convert this dataframe to an interactive table.\"\n",
              "              style=\"display:none;\">\n",
              "        \n",
              "  <svg xmlns=\"http://www.w3.org/2000/svg\" height=\"24px\"viewBox=\"0 0 24 24\"\n",
              "       width=\"24px\">\n",
              "    <path d=\"M0 0h24v24H0V0z\" fill=\"none\"/>\n",
              "    <path d=\"M18.56 5.44l.94 2.06.94-2.06 2.06-.94-2.06-.94-.94-2.06-.94 2.06-2.06.94zm-11 1L8.5 8.5l.94-2.06 2.06-.94-2.06-.94L8.5 2.5l-.94 2.06-2.06.94zm10 10l.94 2.06.94-2.06 2.06-.94-2.06-.94-.94-2.06-.94 2.06-2.06.94z\"/><path d=\"M17.41 7.96l-1.37-1.37c-.4-.4-.92-.59-1.43-.59-.52 0-1.04.2-1.43.59L10.3 9.45l-7.72 7.72c-.78.78-.78 2.05 0 2.83L4 21.41c.39.39.9.59 1.41.59.51 0 1.02-.2 1.41-.59l7.78-7.78 2.81-2.81c.8-.78.8-2.07 0-2.86zM5.41 20L4 18.59l7.72-7.72 1.47 1.35L5.41 20z\"/>\n",
              "  </svg>\n",
              "      </button>\n",
              "      \n",
              "  <style>\n",
              "    .colab-df-container {\n",
              "      display:flex;\n",
              "      flex-wrap:wrap;\n",
              "      gap: 12px;\n",
              "    }\n",
              "\n",
              "    .colab-df-convert {\n",
              "      background-color: #E8F0FE;\n",
              "      border: none;\n",
              "      border-radius: 50%;\n",
              "      cursor: pointer;\n",
              "      display: none;\n",
              "      fill: #1967D2;\n",
              "      height: 32px;\n",
              "      padding: 0 0 0 0;\n",
              "      width: 32px;\n",
              "    }\n",
              "\n",
              "    .colab-df-convert:hover {\n",
              "      background-color: #E2EBFA;\n",
              "      box-shadow: 0px 1px 2px rgba(60, 64, 67, 0.3), 0px 1px 3px 1px rgba(60, 64, 67, 0.15);\n",
              "      fill: #174EA6;\n",
              "    }\n",
              "\n",
              "    [theme=dark] .colab-df-convert {\n",
              "      background-color: #3B4455;\n",
              "      fill: #D2E3FC;\n",
              "    }\n",
              "\n",
              "    [theme=dark] .colab-df-convert:hover {\n",
              "      background-color: #434B5C;\n",
              "      box-shadow: 0px 1px 3px 1px rgba(0, 0, 0, 0.15);\n",
              "      filter: drop-shadow(0px 1px 2px rgba(0, 0, 0, 0.3));\n",
              "      fill: #FFFFFF;\n",
              "    }\n",
              "  </style>\n",
              "\n",
              "      <script>\n",
              "        const buttonEl =\n",
              "          document.querySelector('#df-a72efbbb-973f-4011-b288-7ef6392e0e04 button.colab-df-convert');\n",
              "        buttonEl.style.display =\n",
              "          google.colab.kernel.accessAllowed ? 'block' : 'none';\n",
              "\n",
              "        async function convertToInteractive(key) {\n",
              "          const element = document.querySelector('#df-a72efbbb-973f-4011-b288-7ef6392e0e04');\n",
              "          const dataTable =\n",
              "            await google.colab.kernel.invokeFunction('convertToInteractive',\n",
              "                                                     [key], {});\n",
              "          if (!dataTable) return;\n",
              "\n",
              "          const docLinkHtml = 'Like what you see? Visit the ' +\n",
              "            '<a target=\"_blank\" href=https://colab.research.google.com/notebooks/data_table.ipynb>data table notebook</a>'\n",
              "            + ' to learn more about interactive tables.';\n",
              "          element.innerHTML = '';\n",
              "          dataTable['output_type'] = 'display_data';\n",
              "          await google.colab.output.renderOutput(dataTable, element);\n",
              "          const docLink = document.createElement('div');\n",
              "          docLink.innerHTML = docLinkHtml;\n",
              "          element.appendChild(docLink);\n",
              "        }\n",
              "      </script>\n",
              "    </div>\n",
              "  </div>\n",
              "  "
            ]
          },
          "metadata": {},
          "execution_count": 63
        }
      ]
    },
    {
      "cell_type": "code",
      "source": [
        "train.index"
      ],
      "metadata": {
        "colab": {
          "base_uri": "https://localhost:8080/"
        },
        "id": "59Ima87V8GOb",
        "outputId": "27dab7bb-0fa1-4e65-c340-9547612e0580"
      },
      "execution_count": 64,
      "outputs": [
        {
          "output_type": "execute_result",
          "data": {
            "text/plain": [
              "Int64Index([1688, 1808,  934, 1852, 1079, 1523,  334, 1169, 1827, 1796,\n",
              "            ...\n",
              "            1704, 1298,  979, 1317, 1649,  112, 1218, 1274, 1950, 1949],\n",
              "           dtype='int64', length=1800)"
            ]
          },
          "metadata": {},
          "execution_count": 64
        }
      ]
    },
    {
      "cell_type": "code",
      "source": [
        "y_train = y[train.index]"
      ],
      "metadata": {
        "id": "cZtjEApy92rw"
      },
      "execution_count": 65,
      "outputs": []
    },
    {
      "cell_type": "code",
      "source": [
        "y_test = y[test.index]"
      ],
      "metadata": {
        "id": "AwQFvWWF-H2x"
      },
      "execution_count": 66,
      "outputs": []
    },
    {
      "cell_type": "code",
      "source": [
        "y_train"
      ],
      "metadata": {
        "colab": {
          "base_uri": "https://localhost:8080/"
        },
        "id": "29iHJEMq9-vQ",
        "outputId": "39f52492-701c-47cb-80cb-8d9be0470e16"
      },
      "execution_count": 67,
      "outputs": [
        {
          "output_type": "execute_result",
          "data": {
            "text/plain": [
              "1688    3\n",
              "1808    0\n",
              "934     2\n",
              "1852    0\n",
              "1079    2\n",
              "       ..\n",
              "112     0\n",
              "1218    2\n",
              "1274    1\n",
              "1950    1\n",
              "1949    2\n",
              "Name: price_range, Length: 1800, dtype: int64"
            ]
          },
          "metadata": {},
          "execution_count": 67
        }
      ]
    },
    {
      "cell_type": "code",
      "source": [
        "y_test"
      ],
      "metadata": {
        "colab": {
          "base_uri": "https://localhost:8080/"
        },
        "id": "1LXcp_3F-O4b",
        "outputId": "0e7d8ddf-8b25-4177-d829-a83b05908616"
      },
      "execution_count": 68,
      "outputs": [
        {
          "output_type": "execute_result",
          "data": {
            "text/plain": [
              "26      3\n",
              "27      3\n",
              "32      1\n",
              "55      2\n",
              "68      0\n",
              "       ..\n",
              "1937    2\n",
              "1960    2\n",
              "1989    1\n",
              "1995    0\n",
              "1998    0\n",
              "Name: price_range, Length: 200, dtype: int64"
            ]
          },
          "metadata": {},
          "execution_count": 68
        }
      ]
    },
    {
      "cell_type": "code",
      "source": [
        "print(train.shape)\n",
        "print(test.shape)\n",
        "\n",
        "#Printing the shapes of the Test and Train data"
      ],
      "metadata": {
        "colab": {
          "base_uri": "https://localhost:8080/"
        },
        "id": "okKFmBSgOoYa",
        "outputId": "7c418397-c268-4c2f-8828-ecac957fa221"
      },
      "execution_count": 69,
      "outputs": [
        {
          "output_type": "stream",
          "name": "stdout",
          "text": [
            "(1800, 20)\n",
            "(200, 20)\n"
          ]
        }
      ]
    },
    {
      "cell_type": "markdown",
      "source": [
        "#Correlations between the Attributes"
      ],
      "metadata": {
        "id": "0lM1iOh7njCC"
      }
    },
    {
      "cell_type": "code",
      "source": [
        "fig = plt.subplots (figsize = (12, 12))\n",
        "sns.heatmap(data.corr (), square = True, cbar = True, annot = True, cmap=\"GnBu\", annot_kws = {'size': 8})\n",
        "plt.title('Correlations between Attributes')\n",
        "plt.show ()\n",
        "\n",
        "#Plotting the Correlation between the Attributes"
      ],
      "metadata": {
        "id": "HsM4LvZrOtBH",
        "colab": {
          "base_uri": "https://localhost:8080/",
          "height": 987
        },
        "outputId": "f30326dc-dafd-4df9-bbbb-97bad501db8b"
      },
      "execution_count": 70,
      "outputs": [
        {
          "output_type": "display_data",
          "data": {
            "text/plain": [
              "<Figure size 1200x1200 with 2 Axes>"
            ],
            "image/png": "[encoded data removed]"
          },
          "metadata": {}
        }
      ]
    },
    {
      "cell_type": "markdown",
      "source": [
        "# 1. Logistic Regression"
      ],
      "metadata": {
        "id": "DVagPuw5kMWk"
      }
    },
    {
      "cell_type": "code",
      "source": [
        "#Applying Logistic Regression\n",
        "\n",
        "lr = LogisticRegression(multi_class = 'multinomial', solver = 'saga',  max_iter = 10000)\n",
        "lr.fit(train, y_train)"
      ],
      "metadata": {
        "id": "no-HUIIFMggF",
        "colab": {
          "base_uri": "https://localhost:8080/",
          "height": 74
        },
        "outputId": "236f1a1b-6f94-4338-f261-b78d3a331e73"
      },
      "execution_count": 71,
      "outputs": [
        {
          "output_type": "execute_result",
          "data": {
            "text/plain": [
              "LogisticRegression(max_iter=10000, multi_class='multinomial', solver='saga')"
            ],
            "text/html": [
              "<style>#sk-container-id-1 {color: black;background-color: white;}#sk-container-id-1 pre{padding: 0;}#sk-container-id-1 div.sk-toggleable {background-color: white;}#sk-container-id-1 label.sk-toggleable__label {cursor: pointer;display: block;width: 100%;margin-bottom: 0;padding: 0.3em;box-sizing: border-box;text-align: center;}#sk-container-id-1 label.sk-toggleable__label-arrow:before {content: \"▸\";float: left;margin-right: 0.25em;color: #696969;}#sk-container-id-1 label.sk-toggleable__label-arrow:hover:before {color: black;}#sk-container-id-1 div.sk-estimator:hover label.sk-toggleable__label-arrow:before {color: black;}#sk-container-id-1 div.sk-toggleable__content {max-height: 0;max-width: 0;overflow: hidden;text-align: left;background-color: #f0f8ff;}#sk-container-id-1 div.sk-toggleable__content pre {margin: 0.2em;color: black;border-radius: 0.25em;background-color: #f0f8ff;}#sk-container-id-1 input.sk-toggleable__control:checked~div.sk-toggleable__content {max-height: 200px;max-width: 100%;overflow: auto;}#sk-container-id-1 input.sk-toggleable__control:checked~label.sk-toggleable__label-arrow:before {content: \"▾\";}#sk-container-id-1 div.sk-estimator input.sk-toggleable__control:checked~label.sk-toggleable__label {background-color: #d4ebff;}#sk-container-id-1 div.sk-label input.sk-toggleable__control:checked~label.sk-toggleable__label {background-color: #d4ebff;}#sk-container-id-1 input.sk-hidden--visually {border: 0;clip: rect(1px 1px 1px 1px);clip: rect(1px, 1px, 1px, 1px);height: 1px;margin: -1px;overflow: hidden;padding: 0;position: absolute;width: 1px;}#sk-container-id-1 div.sk-estimator {font-family: monospace;background-color: #f0f8ff;border: 1px dotted black;border-radius: 0.25em;box-sizing: border-box;margin-bottom: 0.5em;}#sk-container-id-1 div.sk-estimator:hover {background-color: #d4ebff;}#sk-container-id-1 div.sk-parallel-item::after {content: \"\";width: 100%;border-bottom: 1px solid gray;flex-grow: 1;}#sk-container-id-1 div.sk-label:hover label.sk-toggleable__label {background-color: #d4ebff;}#sk-container-id-1 div.sk-serial::before {content: \"\";position: absolute;border-left: 1px solid gray;box-sizing: border-box;top: 0;bottom: 0;left: 50%;z-index: 0;}#sk-container-id-1 div.sk-serial {display: flex;flex-direction: column;align-items: center;background-color: white;padding-right: 0.2em;padding-left: 0.2em;position: relative;}#sk-container-id-1 div.sk-item {position: relative;z-index: 1;}#sk-container-id-1 div.sk-parallel {display: flex;align-items: stretch;justify-content: center;background-color: white;position: relative;}#sk-container-id-1 div.sk-item::before, #sk-container-id-1 div.sk-parallel-item::before {content: \"\";position: absolute;border-left: 1px solid gray;box-sizing: border-box;top: 0;bottom: 0;left: 50%;z-index: -1;}#sk-container-id-1 div.sk-parallel-item {display: flex;flex-direction: column;z-index: 1;position: relative;background-color: white;}#sk-container-id-1 div.sk-parallel-item:first-child::after {align-self: flex-end;width: 50%;}#sk-container-id-1 div.sk-parallel-item:last-child::after {align-self: flex-start;width: 50%;}#sk-container-id-1 div.sk-parallel-item:only-child::after {width: 0;}#sk-container-id-1 div.sk-dashed-wrapped {border: 1px dashed gray;margin: 0 0.4em 0.5em 0.4em;box-sizing: border-box;padding-bottom: 0.4em;background-color: white;}#sk-container-id-1 div.sk-label label {font-family: monospace;font-weight: bold;display: inline-block;line-height: 1.2em;}#sk-container-id-1 div.sk-label-container {text-align: center;}#sk-container-id-1 div.sk-container {/* jupyter's `normalize.less` sets `[hidden] { display: none; }` but bootstrap.min.css set `[hidden] { display: none !important; }` so we also need the `!important` here to be able to override the default hidden behavior on the sphinx rendered scikit-learn.org. See: https://github.com/scikit-learn/scikit-learn/issues/21755 */display: inline-block !important;position: relative;}#sk-container-id-1 div.sk-text-repr-fallback {display: none;}</style><div id=\"sk-container-id-1\" class=\"sk-top-container\"><div class=\"sk-text-repr-fallback\"><pre>LogisticRegression(max_iter=10000, multi_class=&#x27;multinomial&#x27;, solver=&#x27;saga&#x27;)</pre><b>In a Jupyter environment, please rerun this cell to show the HTML representation or trust the notebook. <br />On GitHub, the HTML representation is unable to render, please try loading this page with nbviewer.org.</b></div><div class=\"sk-container\" hidden><div class=\"sk-item\"><div class=\"sk-estimator sk-toggleable\"><input class=\"sk-toggleable__control sk-hidden--visually\" id=\"sk-estimator-id-1\" type=\"checkbox\" checked><label for=\"sk-estimator-id-1\" class=\"sk-toggleable__label sk-toggleable__label-arrow\">LogisticRegression</label><div class=\"sk-toggleable__content\"><pre>LogisticRegression(max_iter=10000, multi_class=&#x27;multinomial&#x27;, solver=&#x27;saga&#x27;)</pre></div></div></div></div></div>"
            ]
          },
          "metadata": {},
          "execution_count": 71
        }
      ]
    },
    {
      "cell_type": "code",
      "source": [
        "y_pred_lr = lr.predict(test)"
      ],
      "metadata": {
        "id": "KVDoKdIQPA0c"
      },
      "execution_count": 72,
      "outputs": []
    },
    {
      "cell_type": "code",
      "source": [
        "confusion_matrix_lr = metrics.confusion_matrix(y_test, y_pred_lr)\n",
        "confusion_matrix_lr"
      ],
      "metadata": {
        "id": "uyr-TIiRPDHt",
        "colab": {
          "base_uri": "https://localhost:8080/"
        },
        "outputId": "cf02c63b-a9d7-45bc-ef4b-508e4855d29f"
      },
      "execution_count": 73,
      "outputs": [
        {
          "output_type": "execute_result",
          "data": {
            "text/plain": [
              "array([[50,  2,  0,  0],\n",
              "       [ 2, 50,  3,  0],\n",
              "       [ 0,  4, 35,  5],\n",
              "       [ 0,  0,  2, 47]])"
            ]
          },
          "metadata": {},
          "execution_count": 73
        }
      ]
    },
    {
      "cell_type": "code",
      "source": [
        "acc_lr = metrics.accuracy_score(y_test, y_pred_lr)\n",
        "acc_lr"
      ],
      "metadata": {
        "id": "2z4Rlm-BPKyz",
        "colab": {
          "base_uri": "https://localhost:8080/"
        },
        "outputId": "d02e8c2b-7683-4edf-9eb2-0384c8b6a09e"
      },
      "execution_count": 74,
      "outputs": [
        {
          "output_type": "execute_result",
          "data": {
            "text/plain": [
              "0.91"
            ]
          },
          "metadata": {},
          "execution_count": 74
        }
      ]
    },
    {
      "cell_type": "markdown",
      "source": [
        "#2. KNN Classification\n"
      ],
      "metadata": {
        "id": "OvA5S6SJkaCC"
      }
    },
    {
      "cell_type": "code",
      "source": [
        "#Applying KNN Classification\n",
        "\n",
        "model_knn = KNeighborsClassifier(n_neighbors=4)\n",
        "model_knn.fit(train, y_train)"
      ],
      "metadata": {
        "id": "qs85YdN4Pkmt",
        "colab": {
          "base_uri": "https://localhost:8080/",
          "height": 74
        },
        "outputId": "ae693bd4-f443-4ad6-ad5e-0331db3a9e68"
      },
      "execution_count": 75,
      "outputs": [
        {
          "output_type": "execute_result",
          "data": {
            "text/plain": [
              "KNeighborsClassifier(n_neighbors=4)"
            ],
            "text/html": [
              "<style>#sk-container-id-2 {color: black;background-color: white;}#sk-container-id-2 pre{padding: 0;}#sk-container-id-2 div.sk-toggleable {background-color: white;}#sk-container-id-2 label.sk-toggleable__label {cursor: pointer;display: block;width: 100%;margin-bottom: 0;padding: 0.3em;box-sizing: border-box;text-align: center;}#sk-container-id-2 label.sk-toggleable__label-arrow:before {content: \"▸\";float: left;margin-right: 0.25em;color: #696969;}#sk-container-id-2 label.sk-toggleable__label-arrow:hover:before {color: black;}#sk-container-id-2 div.sk-estimator:hover label.sk-toggleable__label-arrow:before {color: black;}#sk-container-id-2 div.sk-toggleable__content {max-height: 0;max-width: 0;overflow: hidden;text-align: left;background-color: #f0f8ff;}#sk-container-id-2 div.sk-toggleable__content pre {margin: 0.2em;color: black;border-radius: 0.25em;background-color: #f0f8ff;}#sk-container-id-2 input.sk-toggleable__control:checked~div.sk-toggleable__content {max-height: 200px;max-width: 100%;overflow: auto;}#sk-container-id-2 input.sk-toggleable__control:checked~label.sk-toggleable__label-arrow:before {content: \"▾\";}#sk-container-id-2 div.sk-estimator input.sk-toggleable__control:checked~label.sk-toggleable__label {background-color: #d4ebff;}#sk-container-id-2 div.sk-label input.sk-toggleable__control:checked~label.sk-toggleable__label {background-color: #d4ebff;}#sk-container-id-2 input.sk-hidden--visually {border: 0;clip: rect(1px 1px 1px 1px);clip: rect(1px, 1px, 1px, 1px);height: 1px;margin: -1px;overflow: hidden;padding: 0;position: absolute;width: 1px;}#sk-container-id-2 div.sk-estimator {font-family: monospace;background-color: #f0f8ff;border: 1px dotted black;border-radius: 0.25em;box-sizing: border-box;margin-bottom: 0.5em;}#sk-container-id-2 div.sk-estimator:hover {background-color: #d4ebff;}#sk-container-id-2 div.sk-parallel-item::after {content: \"\";width: 100%;border-bottom: 1px solid gray;flex-grow: 1;}#sk-container-id-2 div.sk-label:hover label.sk-toggleable__label {background-color: #d4ebff;}#sk-container-id-2 div.sk-serial::before {content: \"\";position: absolute;border-left: 1px solid gray;box-sizing: border-box;top: 0;bottom: 0;left: 50%;z-index: 0;}#sk-container-id-2 div.sk-serial {display: flex;flex-direction: column;align-items: center;background-color: white;padding-right: 0.2em;padding-left: 0.2em;position: relative;}#sk-container-id-2 div.sk-item {position: relative;z-index: 1;}#sk-container-id-2 div.sk-parallel {display: flex;align-items: stretch;justify-content: center;background-color: white;position: relative;}#sk-container-id-2 div.sk-item::before, #sk-container-id-2 div.sk-parallel-item::before {content: \"\";position: absolute;border-left: 1px solid gray;box-sizing: border-box;top: 0;bottom: 0;left: 50%;z-index: -1;}#sk-container-id-2 div.sk-parallel-item {display: flex;flex-direction: column;z-index: 1;position: relative;background-color: white;}#sk-container-id-2 div.sk-parallel-item:first-child::after {align-self: flex-end;width: 50%;}#sk-container-id-2 div.sk-parallel-item:last-child::after {align-self: flex-start;width: 50%;}#sk-container-id-2 div.sk-parallel-item:only-child::after {width: 0;}#sk-container-id-2 div.sk-dashed-wrapped {border: 1px dashed gray;margin: 0 0.4em 0.5em 0.4em;box-sizing: border-box;padding-bottom: 0.4em;background-color: white;}#sk-container-id-2 div.sk-label label {font-family: monospace;font-weight: bold;display: inline-block;line-height: 1.2em;}#sk-container-id-2 div.sk-label-container {text-align: center;}#sk-container-id-2 div.sk-container {/* jupyter's `normalize.less` sets `[hidden] { display: none; }` but bootstrap.min.css set `[hidden] { display: none !important; }` so we also need the `!important` here to be able to override the default hidden behavior on the sphinx rendered scikit-learn.org. See: https://github.com/scikit-learn/scikit-learn/issues/21755 */display: inline-block !important;position: relative;}#sk-container-id-2 div.sk-text-repr-fallback {display: none;}</style><div id=\"sk-container-id-2\" class=\"sk-top-container\"><div class=\"sk-text-repr-fallback\"><pre>KNeighborsClassifier(n_neighbors=4)</pre><b>In a Jupyter environment, please rerun this cell to show the HTML representation or trust the notebook. <br />On GitHub, the HTML representation is unable to render, please try loading this page with nbviewer.org.</b></div><div class=\"sk-container\" hidden><div class=\"sk-item\"><div class=\"sk-estimator sk-toggleable\"><input class=\"sk-toggleable__control sk-hidden--visually\" id=\"sk-estimator-id-2\" type=\"checkbox\" checked><label for=\"sk-estimator-id-2\" class=\"sk-toggleable__label sk-toggleable__label-arrow\">KNeighborsClassifier</label><div class=\"sk-toggleable__content\"><pre>KNeighborsClassifier(n_neighbors=4)</pre></div></div></div></div></div>"
            ]
          },
          "metadata": {},
          "execution_count": 75
        }
      ]
    },
    {
      "cell_type": "code",
      "source": [
        "y_pred_knn = model_knn.predict(test)"
      ],
      "metadata": {
        "id": "XVt7voLaPoeq"
      },
      "execution_count": 76,
      "outputs": []
    },
    {
      "cell_type": "code",
      "source": [
        "confusion_matrix_knn = metrics.confusion_matrix(y_test, y_pred_knn)\n",
        "confusion_matrix_knn"
      ],
      "metadata": {
        "id": "0w2gKTiQP56k",
        "colab": {
          "base_uri": "https://localhost:8080/"
        },
        "outputId": "ba36d92e-a87b-493b-d6ec-86ae49ae6f6e"
      },
      "execution_count": 77,
      "outputs": [
        {
          "output_type": "execute_result",
          "data": {
            "text/plain": [
              "array([[32, 11,  9,  0],\n",
              "       [18, 11, 22,  4],\n",
              "       [12, 12, 11,  9],\n",
              "       [ 4, 10, 16, 19]])"
            ]
          },
          "metadata": {},
          "execution_count": 77
        }
      ]
    },
    {
      "cell_type": "code",
      "source": [
        "acc_knn = metrics.accuracy_score(y_test, y_pred_knn)\n",
        "acc_knn"
      ],
      "metadata": {
        "id": "IG7xR6KzBHQ3",
        "colab": {
          "base_uri": "https://localhost:8080/"
        },
        "outputId": "443f35f7-ef0d-41f8-90f5-feac7afe14ea"
      },
      "execution_count": 78,
      "outputs": [
        {
          "output_type": "execute_result",
          "data": {
            "text/plain": [
              "0.365"
            ]
          },
          "metadata": {},
          "execution_count": 78
        }
      ]
    },
    {
      "cell_type": "markdown",
      "source": [
        "#3. SVM Classifier with linear"
      ],
      "metadata": {
        "id": "Vjw3xp1YkfVz"
      }
    },
    {
      "cell_type": "code",
      "source": [
        "#Applying Linear SVM Classifier\n",
        "\n",
        "from sklearn import svm\n",
        "svm_clf = svm.LinearSVC(multi_class='ovr', max_iter = 1000)"
      ],
      "metadata": {
        "id": "nfCDLFhOQ8Vt"
      },
      "execution_count": 79,
      "outputs": []
    },
    {
      "cell_type": "code",
      "source": [
        "svm_clf.fit(train, y_train)\n",
        "y_pred_svm=svm_clf.predict(test)"
      ],
      "metadata": {
        "id": "jCuRS9i3RAWy"
      },
      "execution_count": 80,
      "outputs": []
    },
    {
      "cell_type": "code",
      "source": [
        "confusion_matrix_svm = metrics.confusion_matrix(y_test, y_pred_svm)\n",
        "confusion_matrix_svm"
      ],
      "metadata": {
        "id": "otikjqUaBk5N",
        "colab": {
          "base_uri": "https://localhost:8080/"
        },
        "outputId": "49d2d86d-7fee-4bcb-c422-98b21eef5b8c"
      },
      "execution_count": 81,
      "outputs": [
        {
          "output_type": "execute_result",
          "data": {
            "text/plain": [
              "array([[52,  0,  0,  0],\n",
              "       [ 6, 40,  9,  0],\n",
              "       [ 0, 12, 24,  8],\n",
              "       [ 0,  0,  0, 49]])"
            ]
          },
          "metadata": {},
          "execution_count": 81
        }
      ]
    },
    {
      "cell_type": "code",
      "source": [
        "acc_svm = accuracy_score(y_test,y_pred_svm)\n",
        "acc_svm"
      ],
      "metadata": {
        "id": "SLILv39BQ7qL",
        "colab": {
          "base_uri": "https://localhost:8080/"
        },
        "outputId": "1b3f77a7-f62c-41c9-f6f8-7e1ffdb3efc5"
      },
      "execution_count": 82,
      "outputs": [
        {
          "output_type": "execute_result",
          "data": {
            "text/plain": [
              "0.825"
            ]
          },
          "metadata": {},
          "execution_count": 82
        }
      ]
    },
    {
      "cell_type": "markdown",
      "source": [
        "#4. RBF Kernel"
      ],
      "metadata": {
        "id": "3wsfh9ztR62I"
      }
    },
    {
      "cell_type": "code",
      "source": [
        "#Applying RBF Kernel\n",
        "\n",
        "from sklearn.svm import SVC\n",
        "svm = SVC(kernel='rbf', random_state=0, gamma=.01, C=1)\n",
        "svm.fit(train, y_train)"
      ],
      "metadata": {
        "id": "H8HEU9W6JI-3",
        "colab": {
          "base_uri": "https://localhost:8080/",
          "height": 0
        },
        "outputId": "942cb38f-2297-4930-f0f9-88955fdcfcae"
      },
      "execution_count": 83,
      "outputs": [
        {
          "output_type": "execute_result",
          "data": {
            "text/plain": [
              "SVC(C=1, gamma=0.01, random_state=0)"
            ],
            "text/html": [
              "<style>#sk-container-id-3 {color: black;background-color: white;}#sk-container-id-3 pre{padding: 0;}#sk-container-id-3 div.sk-toggleable {background-color: white;}#sk-container-id-3 label.sk-toggleable__label {cursor: pointer;display: block;width: 100%;margin-bottom: 0;padding: 0.3em;box-sizing: border-box;text-align: center;}#sk-container-id-3 label.sk-toggleable__label-arrow:before {content: \"▸\";float: left;margin-right: 0.25em;color: #696969;}#sk-container-id-3 label.sk-toggleable__label-arrow:hover:before {color: black;}#sk-container-id-3 div.sk-estimator:hover label.sk-toggleable__label-arrow:before {color: black;}#sk-container-id-3 div.sk-toggleable__content {max-height: 0;max-width: 0;overflow: hidden;text-align: left;background-color: #f0f8ff;}#sk-container-id-3 div.sk-toggleable__content pre {margin: 0.2em;color: black;border-radius: 0.25em;background-color: #f0f8ff;}#sk-container-id-3 input.sk-toggleable__control:checked~div.sk-toggleable__content {max-height: 200px;max-width: 100%;overflow: auto;}#sk-container-id-3 input.sk-toggleable__control:checked~label.sk-toggleable__label-arrow:before {content: \"▾\";}#sk-container-id-3 div.sk-estimator input.sk-toggleable__control:checked~label.sk-toggleable__label {background-color: #d4ebff;}#sk-container-id-3 div.sk-label input.sk-toggleable__control:checked~label.sk-toggleable__label {background-color: #d4ebff;}#sk-container-id-3 input.sk-hidden--visually {border: 0;clip: rect(1px 1px 1px 1px);clip: rect(1px, 1px, 1px, 1px);height: 1px;margin: -1px;overflow: hidden;padding: 0;position: absolute;width: 1px;}#sk-container-id-3 div.sk-estimator {font-family: monospace;background-color: #f0f8ff;border: 1px dotted black;border-radius: 0.25em;box-sizing: border-box;margin-bottom: 0.5em;}#sk-container-id-3 div.sk-estimator:hover {background-color: #d4ebff;}#sk-container-id-3 div.sk-parallel-item::after {content: \"\";width: 100%;border-bottom: 1px solid gray;flex-grow: 1;}#sk-container-id-3 div.sk-label:hover label.sk-toggleable__label {background-color: #d4ebff;}#sk-container-id-3 div.sk-serial::before {content: \"\";position: absolute;border-left: 1px solid gray;box-sizing: border-box;top: 0;bottom: 0;left: 50%;z-index: 0;}#sk-container-id-3 div.sk-serial {display: flex;flex-direction: column;align-items: center;background-color: white;padding-right: 0.2em;padding-left: 0.2em;position: relative;}#sk-container-id-3 div.sk-item {position: relative;z-index: 1;}#sk-container-id-3 div.sk-parallel {display: flex;align-items: stretch;justify-content: center;background-color: white;position: relative;}#sk-container-id-3 div.sk-item::before, #sk-container-id-3 div.sk-parallel-item::before {content: \"\";position: absolute;border-left: 1px solid gray;box-sizing: border-box;top: 0;bottom: 0;left: 50%;z-index: -1;}#sk-container-id-3 div.sk-parallel-item {display: flex;flex-direction: column;z-index: 1;position: relative;background-color: white;}#sk-container-id-3 div.sk-parallel-item:first-child::after {align-self: flex-end;width: 50%;}#sk-container-id-3 div.sk-parallel-item:last-child::after {align-self: flex-start;width: 50%;}#sk-container-id-3 div.sk-parallel-item:only-child::after {width: 0;}#sk-container-id-3 div.sk-dashed-wrapped {border: 1px dashed gray;margin: 0 0.4em 0.5em 0.4em;box-sizing: border-box;padding-bottom: 0.4em;background-color: white;}#sk-container-id-3 div.sk-label label {font-family: monospace;font-weight: bold;display: inline-block;line-height: 1.2em;}#sk-container-id-3 div.sk-label-container {text-align: center;}#sk-container-id-3 div.sk-container {/* jupyter's `normalize.less` sets `[hidden] { display: none; }` but bootstrap.min.css set `[hidden] { display: none !important; }` so we also need the `!important` here to be able to override the default hidden behavior on the sphinx rendered scikit-learn.org. See: https://github.com/scikit-learn/scikit-learn/issues/21755 */display: inline-block !important;position: relative;}#sk-container-id-3 div.sk-text-repr-fallback {display: none;}</style><div id=\"sk-container-id-3\" class=\"sk-top-container\"><div class=\"sk-text-repr-fallback\"><pre>SVC(C=1, gamma=0.01, random_state=0)</pre><b>In a Jupyter environment, please rerun this cell to show the HTML representation or trust the notebook. <br />On GitHub, the HTML representation is unable to render, please try loading this page with nbviewer.org.</b></div><div class=\"sk-container\" hidden><div class=\"sk-item\"><div class=\"sk-estimator sk-toggleable\"><input class=\"sk-toggleable__control sk-hidden--visually\" id=\"sk-estimator-id-3\" type=\"checkbox\" checked><label for=\"sk-estimator-id-3\" class=\"sk-toggleable__label sk-toggleable__label-arrow\">SVC</label><div class=\"sk-toggleable__content\"><pre>SVC(C=1, gamma=0.01, random_state=0)</pre></div></div></div></div></div>"
            ]
          },
          "metadata": {},
          "execution_count": 83
        }
      ]
    },
    {
      "cell_type": "code",
      "source": [
        "y_pred_svm_rbf=svm.predict(test)"
      ],
      "metadata": {
        "id": "xKMkQv3sJYoR"
      },
      "execution_count": 84,
      "outputs": []
    },
    {
      "cell_type": "code",
      "source": [
        "confusion_matrix_rbf = metrics.confusion_matrix(y_test, y_pred_svm_rbf)\n",
        "confusion_matrix_rbf"
      ],
      "metadata": {
        "id": "bA7vYr6jJg7F",
        "colab": {
          "base_uri": "https://localhost:8080/"
        },
        "outputId": "b5bbec1f-4f4e-4226-a00a-6f6192657d5e"
      },
      "execution_count": 85,
      "outputs": [
        {
          "output_type": "execute_result",
          "data": {
            "text/plain": [
              "array([[40, 12,  0,  0],\n",
              "       [ 6, 36, 13,  0],\n",
              "       [ 0,  5, 38,  1],\n",
              "       [ 0,  0, 14, 35]])"
            ]
          },
          "metadata": {},
          "execution_count": 85
        }
      ]
    },
    {
      "cell_type": "code",
      "source": [
        "acc_rbf = accuracy_score(y_test,y_pred_svm_rbf)\n",
        "acc_rbf"
      ],
      "metadata": {
        "id": "MhdSywRSJg3l",
        "colab": {
          "base_uri": "https://localhost:8080/"
        },
        "outputId": "2e7a45eb-4e27-42b6-8af8-dec558acddca"
      },
      "execution_count": 86,
      "outputs": [
        {
          "output_type": "execute_result",
          "data": {
            "text/plain": [
              "0.745"
            ]
          },
          "metadata": {},
          "execution_count": 86
        }
      ]
    },
    {
      "cell_type": "markdown",
      "source": [
        "#Predict the price range for test data\n"
      ],
      "metadata": {
        "id": "0t41u8xEmh9u"
      }
    },
    {
      "cell_type": "code",
      "source": [
        "predicted_labels = y_pred_lr.tolist()\n",
        "actual_labels = y_test.tolist()"
      ],
      "metadata": {
        "id": "79Jkny8824in"
      },
      "execution_count": 87,
      "outputs": []
    },
    {
      "cell_type": "code",
      "source": [
        "dict = {'predicted_labels': predicted_labels, 'actual_labels' : actual_labels}\n",
        "prediction_result = pd.DataFrame(dict)"
      ],
      "metadata": {
        "id": "PsGXpT_s25Vm"
      },
      "execution_count": 88,
      "outputs": []
    },
    {
      "cell_type": "code",
      "source": [
        "print(prediction_result.to_string())"
      ],
      "metadata": {
        "id": "iVI9ML_o25Se",
        "colab": {
          "base_uri": "https://localhost:8080/"
        },
        "outputId": "82d64e98-0ba9-4cea-f872-265a86d5f10e"
      },
      "execution_count": 89,
      "outputs": [
        {
          "output_type": "stream",
          "name": "stdout",
          "text": [
            "     predicted_labels  actual_labels\n",
            "0                   3              3\n",
            "1                   3              3\n",
            "2                   1              1\n",
            "3                   3              2\n",
            "4                   0              0\n",
            "5                   1              1\n",
            "6                   0              0\n",
            "7                   0              0\n",
            "8                   1              1\n",
            "9                   1              1\n",
            "10                  3              3\n",
            "11                  2              2\n",
            "12                  3              3\n",
            "13                  3              3\n",
            "14                  3              3\n",
            "15                  0              0\n",
            "16                  2              1\n",
            "17                  3              3\n",
            "18                  3              2\n",
            "19                  0              0\n",
            "20                  1              1\n",
            "21                  1              1\n",
            "22                  1              1\n",
            "23                  3              3\n",
            "24                  3              3\n",
            "25                  1              1\n",
            "26                  1              1\n",
            "27                  0              0\n",
            "28                  0              0\n",
            "29                  1              1\n",
            "30                  3              2\n",
            "31                  3              3\n",
            "32                  1              1\n",
            "33                  0              0\n",
            "34                  2              2\n",
            "35                  0              0\n",
            "36                  1              1\n",
            "37                  3              3\n",
            "38                  3              3\n",
            "39                  2              3\n",
            "40                  2              2\n",
            "41                  0              0\n",
            "42                  1              1\n",
            "43                  2              2\n",
            "44                  1              1\n",
            "45                  3              3\n",
            "46                  1              1\n",
            "47                  0              0\n",
            "48                  1              1\n",
            "49                  2              2\n",
            "50                  2              2\n",
            "51                  3              3\n",
            "52                  3              3\n",
            "53                  0              0\n",
            "54                  2              2\n",
            "55                  1              1\n",
            "56                  3              3\n",
            "57                  0              0\n",
            "58                  0              0\n",
            "59                  0              0\n",
            "60                  1              1\n",
            "61                  0              0\n",
            "62                  2              2\n",
            "63                  1              1\n",
            "64                  2              2\n",
            "65                  1              0\n",
            "66                  3              3\n",
            "67                  3              2\n",
            "68                  1              2\n",
            "69                  1              1\n",
            "70                  0              0\n",
            "71                  1              1\n",
            "72                  1              1\n",
            "73                  3              3\n",
            "74                  2              2\n",
            "75                  1              1\n",
            "76                  0              0\n",
            "77                  2              2\n",
            "78                  3              3\n",
            "79                  3              3\n",
            "80                  2              2\n",
            "81                  0              0\n",
            "82                  1              2\n",
            "83                  3              3\n",
            "84                  2              2\n",
            "85                  3              3\n",
            "86                  1              1\n",
            "87                  1              1\n",
            "88                  3              3\n",
            "89                  0              0\n",
            "90                  3              3\n",
            "91                  3              3\n",
            "92                  1              1\n",
            "93                  0              0\n",
            "94                  1              1\n",
            "95                  2              2\n",
            "96                  3              2\n",
            "97                  2              2\n",
            "98                  2              2\n",
            "99                  3              3\n",
            "100                 2              2\n",
            "101                 1              2\n",
            "102                 2              2\n",
            "103                 2              2\n",
            "104                 0              0\n",
            "105                 2              2\n",
            "106                 1              1\n",
            "107                 0              0\n",
            "108                 1              1\n",
            "109                 0              0\n",
            "110                 2              2\n",
            "111                 1              1\n",
            "112                 1              1\n",
            "113                 1              1\n",
            "114                 3              3\n",
            "115                 0              0\n",
            "116                 2              2\n",
            "117                 1              1\n",
            "118                 0              0\n",
            "119                 3              3\n",
            "120                 1              1\n",
            "121                 3              3\n",
            "122                 3              3\n",
            "123                 1              1\n",
            "124                 3              3\n",
            "125                 3              3\n",
            "126                 0              1\n",
            "127                 2              2\n",
            "128                 2              1\n",
            "129                 3              3\n",
            "130                 1              1\n",
            "131                 3              3\n",
            "132                 1              1\n",
            "133                 0              0\n",
            "134                 0              0\n",
            "135                 0              0\n",
            "136                 0              0\n",
            "137                 3              3\n",
            "138                 0              0\n",
            "139                 0              0\n",
            "140                 0              0\n",
            "141                 2              2\n",
            "142                 0              0\n",
            "143                 1              1\n",
            "144                 3              3\n",
            "145                 3              3\n",
            "146                 2              2\n",
            "147                 0              1\n",
            "148                 1              1\n",
            "149                 1              0\n",
            "150                 0              0\n",
            "151                 3              3\n",
            "152                 1              1\n",
            "153                 3              3\n",
            "154                 2              2\n",
            "155                 1              1\n",
            "156                 1              1\n",
            "157                 0              0\n",
            "158                 1              1\n",
            "159                 0              0\n",
            "160                 1              1\n",
            "161                 0              0\n",
            "162                 1              1\n",
            "163                 3              3\n",
            "164                 3              3\n",
            "165                 0              0\n",
            "166                 0              0\n",
            "167                 0              0\n",
            "168                 0              0\n",
            "169                 2              2\n",
            "170                 1              1\n",
            "171                 1              2\n",
            "172                 3              3\n",
            "173                 3              3\n",
            "174                 1              1\n",
            "175                 2              2\n",
            "176                 1              1\n",
            "177                 3              3\n",
            "178                 2              2\n",
            "179                 3              3\n",
            "180                 0              0\n",
            "181                 0              0\n",
            "182                 0              0\n",
            "183                 0              0\n",
            "184                 2              2\n",
            "185                 2              2\n",
            "186                 3              3\n",
            "187                 2              2\n",
            "188                 0              0\n",
            "189                 1              1\n",
            "190                 3              3\n",
            "191                 2              3\n",
            "192                 2              2\n",
            "193                 0              0\n",
            "194                 1              1\n",
            "195                 2              2\n",
            "196                 2              2\n",
            "197                 2              1\n",
            "198                 0              0\n",
            "199                 0              0\n"
          ]
        }
      ]
    },
    {
      "cell_type": "markdown",
      "source": [
        "# Confusion matrix and classification report"
      ],
      "metadata": {
        "id": "89fCscKKmySR"
      }
    },
    {
      "cell_type": "code",
      "source": [
        "print(\"Confusion matrix for Logistic Regression is : \")\n",
        "print(confusion_matrix_lr)\n",
        "print('\\n')\n",
        "print(\"Confusion matrix for KNN is : \")\n",
        "print(confusion_matrix_knn)\n",
        "print('\\n')\n",
        "print(\"Confusion matrix for SVM is : \")\n",
        "print(confusion_matrix_svm)\n",
        "print('\\n')\n",
        "print(\"Confusion matrix for RBL Kernel is : \")\n",
        "print(confusion_matrix_rbf)"
      ],
      "metadata": {
        "id": "r45VY0LH25Px",
        "colab": {
          "base_uri": "https://localhost:8080/"
        },
        "outputId": "955feac2-9e11-4174-9744-b5eb4b51ed13"
      },
      "execution_count": 90,
      "outputs": [
        {
          "output_type": "stream",
          "name": "stdout",
          "text": [
            "Confusion matrix for Logistic Regression is : \n",
            "[[50  2  0  0]\n",
            " [ 2 50  3  0]\n",
            " [ 0  4 35  5]\n",
            " [ 0  0  2 47]]\n",
            "\n",
            "\n",
            "Confusion matrix for KNN is : \n",
            "[[32 11  9  0]\n",
            " [18 11 22  4]\n",
            " [12 12 11  9]\n",
            " [ 4 10 16 19]]\n",
            "\n",
            "\n",
            "Confusion matrix for SVM is : \n",
            "[[52  0  0  0]\n",
            " [ 6 40  9  0]\n",
            " [ 0 12 24  8]\n",
            " [ 0  0  0 49]]\n",
            "\n",
            "\n",
            "Confusion matrix for RBL Kernel is : \n",
            "[[40 12  0  0]\n",
            " [ 6 36 13  0]\n",
            " [ 0  5 38  1]\n",
            " [ 0  0 14 35]]\n"
          ]
        }
      ]
    },
    {
      "cell_type": "code",
      "source": [
        "from sklearn.metrics import classification_report"
      ],
      "metadata": {
        "id": "y8SySKP325Mu"
      },
      "execution_count": 91,
      "outputs": []
    },
    {
      "cell_type": "code",
      "source": [
        "target_names = np.unique(y)"
      ],
      "metadata": {
        "id": "_qZ-tmJH25Dy"
      },
      "execution_count": 92,
      "outputs": []
    },
    {
      "cell_type": "code",
      "source": [
        "target_names = ['0', '1', '2', '3']"
      ],
      "metadata": {
        "id": "AQBkYs48fYxV"
      },
      "execution_count": 93,
      "outputs": []
    },
    {
      "cell_type": "code",
      "source": [
        "y_pred_lr.shape"
      ],
      "metadata": {
        "colab": {
          "base_uri": "https://localhost:8080/"
        },
        "id": "svD1dX6FgMTb",
        "outputId": "96f3700c-6407-4a2d-dbaa-9ad9c344dadc"
      },
      "execution_count": 94,
      "outputs": [
        {
          "output_type": "execute_result",
          "data": {
            "text/plain": [
              "(200,)"
            ]
          },
          "metadata": {},
          "execution_count": 94
        }
      ]
    },
    {
      "cell_type": "code",
      "source": [
        "print(classification_report(y_test.ravel() , y_pred_lr.ravel(), target_names=target_names))     #Classification Report"
      ],
      "metadata": {
        "id": "rFmme_hF25JM",
        "colab": {
          "base_uri": "https://localhost:8080/"
        },
        "outputId": "c51212b8-f223-4dea-b2bf-5a4a511dbd2e"
      },
      "execution_count": 95,
      "outputs": [
        {
          "output_type": "stream",
          "name": "stdout",
          "text": [
            "              precision    recall  f1-score   support\n",
            "\n",
            "           0       0.96      0.96      0.96        52\n",
            "           1       0.89      0.91      0.90        55\n",
            "           2       0.88      0.80      0.83        44\n",
            "           3       0.90      0.96      0.93        49\n",
            "\n",
            "    accuracy                           0.91       200\n",
            "   macro avg       0.91      0.91      0.91       200\n",
            "weighted avg       0.91      0.91      0.91       200\n",
            "\n"
          ]
        }
      ]
    },
    {
      "cell_type": "markdown",
      "source": [
        "\n",
        "#Which Model is more Accurate...!!!"
      ],
      "metadata": {
        "id": "tyygCGBqSIkQ"
      }
    },
    {
      "cell_type": "code",
      "source": [
        "models = ['logistic regression', 'KNN', 'SVM', 'RBF']\n",
        "acc_scores = [acc_lr, acc_knn, acc_svm, acc_rbf]\n",
        "\n",
        "plt.bar(models, acc_scores, color=['lightblue', 'pink', 'lightgrey', 'cyan'])\n",
        "plt.ylabel(\"accuracy scores\")\n",
        "plt.title(\"Which model is the Most Accurate?\")\n",
        "plt.show()\n",
        "\n",
        "#Displays which is Most accurate among the four Models"
      ],
      "metadata": {
        "id": "To6BiS_pQnwo",
        "colab": {
          "base_uri": "https://localhost:8080/",
          "height": 452
        },
        "outputId": "90d65aac-bd0a-4431-86a6-2a4c31a6946b"
      },
      "execution_count": 96,
      "outputs": [
        {
          "output_type": "display_data",
          "data": {
            "text/plain": [
              "<Figure size 640x480 with 1 Axes>"
            ],
            "image/png": "[encoded data removed]"
          },
          "metadata": {}
        }
      ]
    }
  ]
}